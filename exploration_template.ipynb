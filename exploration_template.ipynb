{
 "cells": [
  {
   "cell_type": "markdown",
   "metadata": {},
   "source": [
    "# Prosper Loan Data\n",
    "## by Alejandro Rodriguez Martinez\n",
    "\n",
    "## Preliminary Wrangling\n",
    "\n",
    "> This dataset contains information on loans given to individuals. There are 113937 entries with 81 variables each. For this analysis only a subset of them will be chosen. Interesting variables include Borrower's APR, Loan Status or Credit score to name a few"
   ]
  },
  {
   "cell_type": "code",
   "execution_count": 170,
   "metadata": {},
   "outputs": [],
   "source": [
    "# import all packages and set plots to be embedded inline\n",
    "import numpy as np\n",
    "import pandas as pd\n",
    "import matplotlib.pyplot as plt\n",
    "import seaborn as sb\n",
    "\n",
    "%matplotlib inline"
   ]
  },
  {
   "cell_type": "markdown",
   "metadata": {},
   "source": [
    "Let's load the dataset and get an overview of the main properties for the data."
   ]
  },
  {
   "cell_type": "code",
   "execution_count": 171,
   "metadata": {},
   "outputs": [
    {
     "name": "stdout",
     "output_type": "stream",
     "text": [
      "<class 'pandas.core.frame.DataFrame'>\n",
      "RangeIndex: 113937 entries, 0 to 113936\n",
      "Data columns (total 81 columns):\n",
      "ListingKey                             113937 non-null object\n",
      "ListingNumber                          113937 non-null int64\n",
      "ListingCreationDate                    113937 non-null object\n",
      "CreditGrade                            28953 non-null object\n",
      "Term                                   113937 non-null int64\n",
      "LoanStatus                             113937 non-null object\n",
      "ClosedDate                             55089 non-null object\n",
      "BorrowerAPR                            113912 non-null float64\n",
      "BorrowerRate                           113937 non-null float64\n",
      "LenderYield                            113937 non-null float64\n",
      "EstimatedEffectiveYield                84853 non-null float64\n",
      "EstimatedLoss                          84853 non-null float64\n",
      "EstimatedReturn                        84853 non-null float64\n",
      "ProsperRating (numeric)                84853 non-null float64\n",
      "ProsperRating (Alpha)                  84853 non-null object\n",
      "ProsperScore                           84853 non-null float64\n",
      "ListingCategory (numeric)              113937 non-null int64\n",
      "BorrowerState                          108422 non-null object\n",
      "Occupation                             110349 non-null object\n",
      "EmploymentStatus                       111682 non-null object\n",
      "EmploymentStatusDuration               106312 non-null float64\n",
      "IsBorrowerHomeowner                    113937 non-null bool\n",
      "CurrentlyInGroup                       113937 non-null bool\n",
      "GroupKey                               13341 non-null object\n",
      "DateCreditPulled                       113937 non-null object\n",
      "CreditScoreRangeLower                  113346 non-null float64\n",
      "CreditScoreRangeUpper                  113346 non-null float64\n",
      "FirstRecordedCreditLine                113240 non-null object\n",
      "CurrentCreditLines                     106333 non-null float64\n",
      "OpenCreditLines                        106333 non-null float64\n",
      "TotalCreditLinespast7years             113240 non-null float64\n",
      "OpenRevolvingAccounts                  113937 non-null int64\n",
      "OpenRevolvingMonthlyPayment            113937 non-null float64\n",
      "InquiriesLast6Months                   113240 non-null float64\n",
      "TotalInquiries                         112778 non-null float64\n",
      "CurrentDelinquencies                   113240 non-null float64\n",
      "AmountDelinquent                       106315 non-null float64\n",
      "DelinquenciesLast7Years                112947 non-null float64\n",
      "PublicRecordsLast10Years               113240 non-null float64\n",
      "PublicRecordsLast12Months              106333 non-null float64\n",
      "RevolvingCreditBalance                 106333 non-null float64\n",
      "BankcardUtilization                    106333 non-null float64\n",
      "AvailableBankcardCredit                106393 non-null float64\n",
      "TotalTrades                            106393 non-null float64\n",
      "TradesNeverDelinquent (percentage)     106393 non-null float64\n",
      "TradesOpenedLast6Months                106393 non-null float64\n",
      "DebtToIncomeRatio                      105383 non-null float64\n",
      "IncomeRange                            113937 non-null object\n",
      "IncomeVerifiable                       113937 non-null bool\n",
      "StatedMonthlyIncome                    113937 non-null float64\n",
      "LoanKey                                113937 non-null object\n",
      "TotalProsperLoans                      22085 non-null float64\n",
      "TotalProsperPaymentsBilled             22085 non-null float64\n",
      "OnTimeProsperPayments                  22085 non-null float64\n",
      "ProsperPaymentsLessThanOneMonthLate    22085 non-null float64\n",
      "ProsperPaymentsOneMonthPlusLate        22085 non-null float64\n",
      "ProsperPrincipalBorrowed               22085 non-null float64\n",
      "ProsperPrincipalOutstanding            22085 non-null float64\n",
      "ScorexChangeAtTimeOfListing            18928 non-null float64\n",
      "LoanCurrentDaysDelinquent              113937 non-null int64\n",
      "LoanFirstDefaultedCycleNumber          16952 non-null float64\n",
      "LoanMonthsSinceOrigination             113937 non-null int64\n",
      "LoanNumber                             113937 non-null int64\n",
      "LoanOriginalAmount                     113937 non-null int64\n",
      "LoanOriginationDate                    113937 non-null object\n",
      "LoanOriginationQuarter                 113937 non-null object\n",
      "MemberKey                              113937 non-null object\n",
      "MonthlyLoanPayment                     113937 non-null float64\n",
      "LP_CustomerPayments                    113937 non-null float64\n",
      "LP_CustomerPrincipalPayments           113937 non-null float64\n",
      "LP_InterestandFees                     113937 non-null float64\n",
      "LP_ServiceFees                         113937 non-null float64\n",
      "LP_CollectionFees                      113937 non-null float64\n",
      "LP_GrossPrincipalLoss                  113937 non-null float64\n",
      "LP_NetPrincipalLoss                    113937 non-null float64\n",
      "LP_NonPrincipalRecoverypayments        113937 non-null float64\n",
      "PercentFunded                          113937 non-null float64\n",
      "Recommendations                        113937 non-null int64\n",
      "InvestmentFromFriendsCount             113937 non-null int64\n",
      "InvestmentFromFriendsAmount            113937 non-null float64\n",
      "Investors                              113937 non-null int64\n",
      "dtypes: bool(3), float64(50), int64(11), object(17)\n",
      "memory usage: 68.1+ MB\n"
     ]
    }
   ],
   "source": [
    "loan = pd.read_csv('prosperLoanData.csv')\n",
    "loan.info()"
   ]
  },
  {
   "cell_type": "markdown",
   "metadata": {},
   "source": [
    "There are a few columns that are IDs, these can be removed. IDs may be of use when joining different dataframes or when drawing conclusions for specific individuals. However this analysis is rather on the aggregated side. The idea is to find out relationship between variables in the data set as a whole and so IDs are of no use in this case. However before removing unique IDs, let's make sure there are no duplicates"
   ]
  },
  {
   "cell_type": "code",
   "execution_count": 172,
   "metadata": {},
   "outputs": [
    {
     "data": {
      "text/plain": [
       "827"
      ]
     },
     "execution_count": 172,
     "metadata": {},
     "output_type": "execute_result"
    }
   ],
   "source": [
    "listingkeyfilt= [i for i,j in loan.ListingKey.value_counts().iteritems() if j > 1]\n",
    "len(listingkeyfilt)   # ProsperScore seems to be not reliable"
   ]
  },
  {
   "cell_type": "markdown",
   "metadata": {},
   "source": [
    "It seems that there are many duplicates for column ListingKey. However when using pandas duplicated() method, pandas seems to suggest that there are no duplicates.\n"
   ]
  },
  {
   "cell_type": "code",
   "execution_count": 173,
   "metadata": {},
   "outputs": [
    {
     "data": {
      "text/plain": [
       "0"
      ]
     },
     "execution_count": 173,
     "metadata": {},
     "output_type": "execute_result"
    }
   ],
   "source": [
    "sum(loan.duplicated())"
   ]
  },
  {
   "cell_type": "markdown",
   "metadata": {},
   "source": [
    "This leads me to think that there are columns that are different for the same ListingKey ID. Visual inspection in Excel reveals that **ProsperScore** column contains different numbers for what otherwise would be an duplicate entry. To me it doesn't make sense to allocate different risk scores to the same data. Therefore this column seems unreliable and it will be a column we will drop for our analysis."
   ]
  },
  {
   "cell_type": "code",
   "execution_count": 192,
   "metadata": {},
   "outputs": [
    {
     "data": {
      "text/plain": [
       "871"
      ]
     },
     "execution_count": 192,
     "metadata": {},
     "output_type": "execute_result"
    }
   ],
   "source": [
    "loan_clean = loan.drop('ProsperScore',axis=1)\n",
    "sum(loan_clean.ListingKey.duplicated())"
   ]
  },
  {
   "cell_type": "markdown",
   "metadata": {},
   "source": [
    "It can be observed above that now there are 871 rows that are duplicated and thus can be removed. Let's do so"
   ]
  },
  {
   "cell_type": "code",
   "execution_count": 193,
   "metadata": {},
   "outputs": [
    {
     "name": "stdout",
     "output_type": "stream",
     "text": [
      "113937\n",
      "113066\n"
     ]
    }
   ],
   "source": [
    "print(loan_clean.shape[0])\n",
    "loan_clean.drop_duplicates(inplace=True)\n",
    "print(loan_clean.shape[0])"
   ]
  },
  {
   "cell_type": "markdown",
   "metadata": {},
   "source": [
    "Other column that show IDs are: ListingNumber, LoanKey, LoanNumber. Let's remove them"
   ]
  },
  {
   "cell_type": "code",
   "execution_count": 194,
   "metadata": {},
   "outputs": [
    {
     "data": {
      "text/plain": [
       "(113066, 76)"
      ]
     },
     "execution_count": 194,
     "metadata": {},
     "output_type": "execute_result"
    }
   ],
   "source": [
    "for colnametoDrop in ['ListingKey','ListingNumber', 'LoanKey', 'LoanNumber']:\n",
    "    loan_clean.drop(colnametoDrop,axis=1,inplace=True)\n",
    "loan_clean.shape"
   ]
  },
  {
   "cell_type": "markdown",
   "metadata": {},
   "source": [
    "MemberKey and GroupKey columns are not unique, but we are not interested in particular customers, so these columns can be removed as well"
   ]
  },
  {
   "cell_type": "code",
   "execution_count": 195,
   "metadata": {
    "scrolled": true
   },
   "outputs": [
    {
     "data": {
      "text/plain": [
       "(113066, 74)"
      ]
     },
     "execution_count": 195,
     "metadata": {},
     "output_type": "execute_result"
    }
   ],
   "source": [
    "loan_clean.drop(['MemberKey','GroupKey'],axis=1,inplace=True)\n",
    "loan_clean.shape"
   ]
  },
  {
   "cell_type": "markdown",
   "metadata": {
    "scrolled": true
   },
   "source": [
    "There are some other columns that contain too many NaN values, when deciding which columns to analyse the ones that contain less information will be discarded. However since there are so many columns that need to be removed, it may be more sensible to select the subset of columns that we want to analyse.\n",
    "For starters, let's narrow down the number of variables to 17 columns that we can group in the following manner   \n",
    "\n",
    "**Numerical Discrete**\n",
    "- 'EmploymentStatusDuration' \n",
    "- 'CreditScoreRangeUpper'\n",
    "- 'DelinquenciesLast7Years'\n",
    "- 'RevolvingCreditBalance'\n",
    "- 'AvailableBankcardCredit'\n",
    "- 'LoanOriginalAmount'  \n",
    "\n",
    "**Numerical Continuous**\n",
    "- 'BorrowerAPR' \n",
    "- 'LenderYield'\n",
    "- 'DebtToIncomeRatio'\n",
    "- 'MonthlyLoanPayment'  \n",
    "\n",
    "**Categorical/ Nominal**\n",
    "- 'EmploymentStatus'    -  9 categories\n",
    "- 'IsBorrowerHomeowner' - 2 categories\n",
    "- 'LoanStatus'    - 12 categories    \n",
    "\n",
    "**Ordinal**\n",
    "- 'Term'\n",
    "- 'IncomeRange'\n",
    "- 'CreditGrade'                         \n",
    "- 'ProsperRating (Alpha)'               "
   ]
  },
  {
   "cell_type": "code",
   "execution_count": 196,
   "metadata": {},
   "outputs": [
    {
     "name": "stdout",
     "output_type": "stream",
     "text": [
      "<class 'pandas.core.frame.DataFrame'>\n",
      "Int64Index: 113066 entries, 0 to 113936\n",
      "Data columns (total 17 columns):\n",
      "CreditGrade                 28953 non-null object\n",
      "Term                        113066 non-null int64\n",
      "LoanStatus                  113066 non-null object\n",
      "BorrowerAPR                 113041 non-null float64\n",
      "LenderYield                 113066 non-null float64\n",
      "ProsperRating (Alpha)       83982 non-null object\n",
      "EmploymentStatus            110811 non-null object\n",
      "EmploymentStatusDuration    105441 non-null float64\n",
      "IsBorrowerHomeowner         113066 non-null bool\n",
      "CreditScoreRangeUpper       112475 non-null float64\n",
      "DelinquenciesLast7Years     112076 non-null float64\n",
      "RevolvingCreditBalance      105462 non-null float64\n",
      "AvailableBankcardCredit     105522 non-null float64\n",
      "DebtToIncomeRatio           104594 non-null float64\n",
      "IncomeRange                 113066 non-null object\n",
      "LoanOriginalAmount          113066 non-null int64\n",
      "MonthlyLoanPayment          113066 non-null float64\n",
      "dtypes: bool(1), float64(9), int64(2), object(5)\n",
      "memory usage: 14.8+ MB\n"
     ]
    }
   ],
   "source": [
    "columnsToKeep = ['EmploymentStatusDuration','CreditScoreRangeUpper','DelinquenciesLast7Years','RevolvingCreditBalance','AvailableBankcardCredit','LoanOriginalAmount','MonthlyLoanPayment','BorrowerAPR','LenderYield','DebtToIncomeRatio','EmploymentStatus','IsBorrowerHomeowner','LoanStatus','Term','IncomeRange','CreditGrade','ProsperRating (Alpha)']\n",
    "loan_clean.drop([x for x in loan_clean.columns if x not in columnsToKeep],axis=1,inplace=True)\n",
    "loan_clean.info()"
   ]
  },
  {
   "cell_type": "markdown",
   "metadata": {},
   "source": [
    "Interestingly, the two columns that contain fewer entries, namely Credit Grade and Prosper Rating, complement one another. It can be seen below that they both never contain values for the same entry and only a few entries are missing both variables. "
   ]
  },
  {
   "cell_type": "code",
   "execution_count": 197,
   "metadata": {},
   "outputs": [
    {
     "name": "stdout",
     "output_type": "stream",
     "text": [
      "Both columns are null at the same time: 131\n",
      "Both columns are not null at the same time: 0\n"
     ]
    }
   ],
   "source": [
    "print('Both columns are null at the same time: {}'.format(sum(loan_clean['CreditGrade'].isna() & loan_clean['ProsperRating (Alpha)'].isna())))\n",
    "print('Both columns are not null at the same time: {}'.format(sum(loan_clean['CreditGrade'].notna() & loan_clean['ProsperRating (Alpha)'].notna())))"
   ]
  },
  {
   "cell_type": "markdown",
   "metadata": {},
   "source": [
    "Therefore we can join both columns into one, let's keep the name credit grade"
   ]
  },
  {
   "cell_type": "code",
   "execution_count": 198,
   "metadata": {},
   "outputs": [
    {
     "name": "stdout",
     "output_type": "stream",
     "text": [
      "<class 'pandas.core.frame.DataFrame'>\n",
      "Int64Index: 113066 entries, 0 to 113936\n",
      "Data columns (total 16 columns):\n",
      "CreditGrade                 112935 non-null object\n",
      "Term                        113066 non-null int64\n",
      "LoanStatus                  113066 non-null object\n",
      "BorrowerAPR                 113041 non-null float64\n",
      "LenderYield                 113066 non-null float64\n",
      "EmploymentStatus            110811 non-null object\n",
      "EmploymentStatusDuration    105441 non-null float64\n",
      "IsBorrowerHomeowner         113066 non-null bool\n",
      "CreditScoreRangeUpper       112475 non-null float64\n",
      "DelinquenciesLast7Years     112076 non-null float64\n",
      "RevolvingCreditBalance      105462 non-null float64\n",
      "AvailableBankcardCredit     105522 non-null float64\n",
      "DebtToIncomeRatio           104594 non-null float64\n",
      "IncomeRange                 113066 non-null object\n",
      "LoanOriginalAmount          113066 non-null int64\n",
      "MonthlyLoanPayment          113066 non-null float64\n",
      "dtypes: bool(1), float64(9), int64(2), object(4)\n",
      "memory usage: 13.9+ MB\n",
      "None\n"
     ]
    }
   ],
   "source": [
    "loan_clean['CreditGrade'].where(loan_clean['CreditGrade'].notna(),loan_clean['ProsperRating (Alpha)'],inplace=True)\n",
    "loan_clean.drop('ProsperRating (Alpha)',axis=1,inplace=True)\n",
    "print(loan_clean.info())"
   ]
  },
  {
   "cell_type": "markdown",
   "metadata": {},
   "source": [
    "Both Ordinal and categorical/nominal data could be casted as CategoricalDType. In this way it's clearer which variables are categorical and which ones are not."
   ]
  },
  {
   "cell_type": "code",
   "execution_count": 199,
   "metadata": {},
   "outputs": [
    {
     "name": "stdout",
     "output_type": "stream",
     "text": [
      "<class 'pandas.core.frame.DataFrame'>\n",
      "Int64Index: 113066 entries, 0 to 113936\n",
      "Data columns (total 16 columns):\n",
      "CreditGrade                 112935 non-null category\n",
      "Term                        113066 non-null category\n",
      "LoanStatus                  113066 non-null object\n",
      "BorrowerAPR                 113041 non-null float64\n",
      "LenderYield                 113066 non-null float64\n",
      "EmploymentStatus            110811 non-null object\n",
      "EmploymentStatusDuration    105441 non-null float64\n",
      "IsBorrowerHomeowner         113066 non-null bool\n",
      "CreditScoreRangeUpper       112475 non-null float64\n",
      "DelinquenciesLast7Years     112076 non-null float64\n",
      "RevolvingCreditBalance      105462 non-null float64\n",
      "AvailableBankcardCredit     105522 non-null float64\n",
      "DebtToIncomeRatio           104594 non-null float64\n",
      "IncomeRange                 113066 non-null category\n",
      "LoanOriginalAmount          113066 non-null int64\n",
      "MonthlyLoanPayment          113066 non-null float64\n",
      "dtypes: bool(1), category(3), float64(9), int64(1), object(2)\n",
      "memory usage: 11.6+ MB\n"
     ]
    }
   ],
   "source": [
    "loan_clean.CreditGrade.value_counts()\n",
    "ordinal_var_dict = {'CreditGrade': ['NC','HR','E','D','C','B','A','AA'],\n",
    "                    'Term':[12,36,60],\n",
    "                    'IncomeRange':['Not displayed','Not employed','$0','$1-24,999','$25,000-49,999','$50,000-74,999','$75,000-99,999','$100,000+']}\n",
    "\n",
    "for var in ordinal_var_dict:\n",
    "    pd_ver = pd.__version__.split(\".\")\n",
    "    if (int(pd_ver[0]) > 0) or (int(pd_ver[1]) >= 21): # v0.21 or later\n",
    "        ordered_var = pd.api.types.CategoricalDtype(ordered = True,\n",
    "                                                    categories = ordinal_var_dict[var])\n",
    "        loan_clean[var] = loan_clean[var].astype(ordered_var)\n",
    "    else: # pre-v0.21\n",
    "        loan_clean[var] = loan_clean[var].astype('category', ordered = True,\n",
    "                                             categories = ordinal_var_dict[var])\n",
    "loan_clean.info()"
   ]
  },
  {
   "cell_type": "markdown",
   "metadata": {},
   "source": [
    "It seems that there are some missing entries for some columns. Let's inspect *AvailableBankcardCredit* for example. This will help us determine whether those entries are candidates to remove or on the other hand they follow an specified pattern. Let's display a slice of them"
   ]
  },
  {
   "cell_type": "code",
   "execution_count": 200,
   "metadata": {},
   "outputs": [
    {
     "data": {
      "text/html": [
       "<div>\n",
       "<style scoped>\n",
       "    .dataframe tbody tr th:only-of-type {\n",
       "        vertical-align: middle;\n",
       "    }\n",
       "\n",
       "    .dataframe tbody tr th {\n",
       "        vertical-align: top;\n",
       "    }\n",
       "\n",
       "    .dataframe thead th {\n",
       "        text-align: right;\n",
       "    }\n",
       "</style>\n",
       "<table border=\"1\" class=\"dataframe\">\n",
       "  <thead>\n",
       "    <tr style=\"text-align: right;\">\n",
       "      <th></th>\n",
       "      <th>CreditGrade</th>\n",
       "      <th>Term</th>\n",
       "      <th>LoanStatus</th>\n",
       "      <th>BorrowerAPR</th>\n",
       "      <th>LenderYield</th>\n",
       "      <th>EmploymentStatus</th>\n",
       "      <th>EmploymentStatusDuration</th>\n",
       "      <th>IsBorrowerHomeowner</th>\n",
       "      <th>CreditScoreRangeUpper</th>\n",
       "      <th>DelinquenciesLast7Years</th>\n",
       "      <th>RevolvingCreditBalance</th>\n",
       "      <th>AvailableBankcardCredit</th>\n",
       "      <th>DebtToIncomeRatio</th>\n",
       "      <th>IncomeRange</th>\n",
       "      <th>LoanOriginalAmount</th>\n",
       "      <th>MonthlyLoanPayment</th>\n",
       "    </tr>\n",
       "  </thead>\n",
       "  <tbody>\n",
       "    <tr>\n",
       "      <th>52547</th>\n",
       "      <td>E</td>\n",
       "      <td>36</td>\n",
       "      <td>Completed</td>\n",
       "      <td>0.24502</td>\n",
       "      <td>0.2075</td>\n",
       "      <td>NaN</td>\n",
       "      <td>NaN</td>\n",
       "      <td>False</td>\n",
       "      <td>559.0</td>\n",
       "      <td>NaN</td>\n",
       "      <td>NaN</td>\n",
       "      <td>NaN</td>\n",
       "      <td>0.13594</td>\n",
       "      <td>Not displayed</td>\n",
       "      <td>2500</td>\n",
       "      <td>97.75</td>\n",
       "    </tr>\n",
       "    <tr>\n",
       "      <th>816</th>\n",
       "      <td>B</td>\n",
       "      <td>36</td>\n",
       "      <td>Defaulted</td>\n",
       "      <td>0.21438</td>\n",
       "      <td>0.1870</td>\n",
       "      <td>Not available</td>\n",
       "      <td>NaN</td>\n",
       "      <td>True</td>\n",
       "      <td>699.0</td>\n",
       "      <td>0.0</td>\n",
       "      <td>NaN</td>\n",
       "      <td>NaN</td>\n",
       "      <td>0.86000</td>\n",
       "      <td>Not displayed</td>\n",
       "      <td>8500</td>\n",
       "      <td>318.93</td>\n",
       "    </tr>\n",
       "    <tr>\n",
       "      <th>46382</th>\n",
       "      <td>HR</td>\n",
       "      <td>36</td>\n",
       "      <td>Chargedoff</td>\n",
       "      <td>0.18824</td>\n",
       "      <td>0.1450</td>\n",
       "      <td>Not available</td>\n",
       "      <td>NaN</td>\n",
       "      <td>True</td>\n",
       "      <td>519.0</td>\n",
       "      <td>34.0</td>\n",
       "      <td>NaN</td>\n",
       "      <td>NaN</td>\n",
       "      <td>0.20000</td>\n",
       "      <td>Not displayed</td>\n",
       "      <td>1000</td>\n",
       "      <td>35.65</td>\n",
       "    </tr>\n",
       "    <tr>\n",
       "      <th>91434</th>\n",
       "      <td>HR</td>\n",
       "      <td>36</td>\n",
       "      <td>Defaulted</td>\n",
       "      <td>0.28577</td>\n",
       "      <td>0.2450</td>\n",
       "      <td>Not available</td>\n",
       "      <td>NaN</td>\n",
       "      <td>False</td>\n",
       "      <td>479.0</td>\n",
       "      <td>29.0</td>\n",
       "      <td>NaN</td>\n",
       "      <td>NaN</td>\n",
       "      <td>0.02000</td>\n",
       "      <td>Not displayed</td>\n",
       "      <td>1225</td>\n",
       "      <td>50.01</td>\n",
       "    </tr>\n",
       "    <tr>\n",
       "      <th>76040</th>\n",
       "      <td>D</td>\n",
       "      <td>36</td>\n",
       "      <td>Completed</td>\n",
       "      <td>0.22945</td>\n",
       "      <td>0.2170</td>\n",
       "      <td>Not available</td>\n",
       "      <td>NaN</td>\n",
       "      <td>False</td>\n",
       "      <td>639.0</td>\n",
       "      <td>0.0</td>\n",
       "      <td>NaN</td>\n",
       "      <td>NaN</td>\n",
       "      <td>0.23000</td>\n",
       "      <td>Not displayed</td>\n",
       "      <td>10002</td>\n",
       "      <td>383.02</td>\n",
       "    </tr>\n",
       "    <tr>\n",
       "      <th>20418</th>\n",
       "      <td>A</td>\n",
       "      <td>36</td>\n",
       "      <td>Completed</td>\n",
       "      <td>0.10692</td>\n",
       "      <td>0.0950</td>\n",
       "      <td>Not available</td>\n",
       "      <td>NaN</td>\n",
       "      <td>True</td>\n",
       "      <td>739.0</td>\n",
       "      <td>0.0</td>\n",
       "      <td>NaN</td>\n",
       "      <td>NaN</td>\n",
       "      <td>0.35000</td>\n",
       "      <td>Not displayed</td>\n",
       "      <td>3000</td>\n",
       "      <td>96.80</td>\n",
       "    </tr>\n",
       "    <tr>\n",
       "      <th>63676</th>\n",
       "      <td>D</td>\n",
       "      <td>36</td>\n",
       "      <td>Completed</td>\n",
       "      <td>0.23036</td>\n",
       "      <td>0.2150</td>\n",
       "      <td>Not available</td>\n",
       "      <td>NaN</td>\n",
       "      <td>False</td>\n",
       "      <td>639.0</td>\n",
       "      <td>0.0</td>\n",
       "      <td>NaN</td>\n",
       "      <td>NaN</td>\n",
       "      <td>0.09000</td>\n",
       "      <td>Not displayed</td>\n",
       "      <td>1800</td>\n",
       "      <td>0.00</td>\n",
       "    </tr>\n",
       "    <tr>\n",
       "      <th>102494</th>\n",
       "      <td>E</td>\n",
       "      <td>36</td>\n",
       "      <td>Defaulted</td>\n",
       "      <td>0.29776</td>\n",
       "      <td>0.2850</td>\n",
       "      <td>Not available</td>\n",
       "      <td>NaN</td>\n",
       "      <td>False</td>\n",
       "      <td>579.0</td>\n",
       "      <td>0.0</td>\n",
       "      <td>NaN</td>\n",
       "      <td>NaN</td>\n",
       "      <td>0.29000</td>\n",
       "      <td>Not displayed</td>\n",
       "      <td>4000</td>\n",
       "      <td>167.62</td>\n",
       "    </tr>\n",
       "    <tr>\n",
       "      <th>74716</th>\n",
       "      <td>A</td>\n",
       "      <td>36</td>\n",
       "      <td>Completed</td>\n",
       "      <td>0.09427</td>\n",
       "      <td>0.0799</td>\n",
       "      <td>Not available</td>\n",
       "      <td>NaN</td>\n",
       "      <td>False</td>\n",
       "      <td>739.0</td>\n",
       "      <td>0.0</td>\n",
       "      <td>NaN</td>\n",
       "      <td>NaN</td>\n",
       "      <td>0.17000</td>\n",
       "      <td>Not displayed</td>\n",
       "      <td>6000</td>\n",
       "      <td>190.07</td>\n",
       "    </tr>\n",
       "    <tr>\n",
       "      <th>4156</th>\n",
       "      <td>E</td>\n",
       "      <td>36</td>\n",
       "      <td>Completed</td>\n",
       "      <td>0.17219</td>\n",
       "      <td>0.1600</td>\n",
       "      <td>Not available</td>\n",
       "      <td>NaN</td>\n",
       "      <td>False</td>\n",
       "      <td>599.0</td>\n",
       "      <td>0.0</td>\n",
       "      <td>NaN</td>\n",
       "      <td>NaN</td>\n",
       "      <td>0.07000</td>\n",
       "      <td>Not displayed</td>\n",
       "      <td>5000</td>\n",
       "      <td>177.02</td>\n",
       "    </tr>\n",
       "    <tr>\n",
       "      <th>19280</th>\n",
       "      <td>E</td>\n",
       "      <td>36</td>\n",
       "      <td>Completed</td>\n",
       "      <td>0.19139</td>\n",
       "      <td>0.1550</td>\n",
       "      <td>Not available</td>\n",
       "      <td>NaN</td>\n",
       "      <td>False</td>\n",
       "      <td>599.0</td>\n",
       "      <td>0.0</td>\n",
       "      <td>NaN</td>\n",
       "      <td>NaN</td>\n",
       "      <td>0.14000</td>\n",
       "      <td>Not displayed</td>\n",
       "      <td>1600</td>\n",
       "      <td>57.84</td>\n",
       "    </tr>\n",
       "    <tr>\n",
       "      <th>34181</th>\n",
       "      <td>A</td>\n",
       "      <td>36</td>\n",
       "      <td>Completed</td>\n",
       "      <td>0.10692</td>\n",
       "      <td>0.0950</td>\n",
       "      <td>Not available</td>\n",
       "      <td>NaN</td>\n",
       "      <td>False</td>\n",
       "      <td>739.0</td>\n",
       "      <td>0.0</td>\n",
       "      <td>NaN</td>\n",
       "      <td>NaN</td>\n",
       "      <td>0.16000</td>\n",
       "      <td>Not displayed</td>\n",
       "      <td>3000</td>\n",
       "      <td>96.80</td>\n",
       "    </tr>\n",
       "    <tr>\n",
       "      <th>37692</th>\n",
       "      <td>D</td>\n",
       "      <td>36</td>\n",
       "      <td>Chargedoff</td>\n",
       "      <td>0.11696</td>\n",
       "      <td>0.0900</td>\n",
       "      <td>Not available</td>\n",
       "      <td>NaN</td>\n",
       "      <td>False</td>\n",
       "      <td>619.0</td>\n",
       "      <td>2.0</td>\n",
       "      <td>NaN</td>\n",
       "      <td>NaN</td>\n",
       "      <td>0.18000</td>\n",
       "      <td>Not displayed</td>\n",
       "      <td>3000</td>\n",
       "      <td>98.22</td>\n",
       "    </tr>\n",
       "    <tr>\n",
       "      <th>102324</th>\n",
       "      <td>C</td>\n",
       "      <td>36</td>\n",
       "      <td>Completed</td>\n",
       "      <td>0.16215</td>\n",
       "      <td>0.1450</td>\n",
       "      <td>NaN</td>\n",
       "      <td>NaN</td>\n",
       "      <td>False</td>\n",
       "      <td>NaN</td>\n",
       "      <td>NaN</td>\n",
       "      <td>NaN</td>\n",
       "      <td>NaN</td>\n",
       "      <td>0.09854</td>\n",
       "      <td>Not displayed</td>\n",
       "      <td>7500</td>\n",
       "      <td>261.83</td>\n",
       "    </tr>\n",
       "    <tr>\n",
       "      <th>146</th>\n",
       "      <td>A</td>\n",
       "      <td>36</td>\n",
       "      <td>Completed</td>\n",
       "      <td>0.09939</td>\n",
       "      <td>0.0850</td>\n",
       "      <td>NaN</td>\n",
       "      <td>NaN</td>\n",
       "      <td>False</td>\n",
       "      <td>759.0</td>\n",
       "      <td>0.0</td>\n",
       "      <td>NaN</td>\n",
       "      <td>NaN</td>\n",
       "      <td>0.07000</td>\n",
       "      <td>Not displayed</td>\n",
       "      <td>4000</td>\n",
       "      <td>127.66</td>\n",
       "    </tr>\n",
       "    <tr>\n",
       "      <th>13087</th>\n",
       "      <td>B</td>\n",
       "      <td>36</td>\n",
       "      <td>Completed</td>\n",
       "      <td>0.16466</td>\n",
       "      <td>0.1525</td>\n",
       "      <td>Not available</td>\n",
       "      <td>NaN</td>\n",
       "      <td>False</td>\n",
       "      <td>719.0</td>\n",
       "      <td>0.0</td>\n",
       "      <td>NaN</td>\n",
       "      <td>NaN</td>\n",
       "      <td>0.25000</td>\n",
       "      <td>Not displayed</td>\n",
       "      <td>10000</td>\n",
       "      <td>342.73</td>\n",
       "    </tr>\n",
       "    <tr>\n",
       "      <th>11667</th>\n",
       "      <td>A</td>\n",
       "      <td>36</td>\n",
       "      <td>Completed</td>\n",
       "      <td>0.09688</td>\n",
       "      <td>0.0850</td>\n",
       "      <td>Not available</td>\n",
       "      <td>NaN</td>\n",
       "      <td>True</td>\n",
       "      <td>739.0</td>\n",
       "      <td>0.0</td>\n",
       "      <td>NaN</td>\n",
       "      <td>NaN</td>\n",
       "      <td>0.13000</td>\n",
       "      <td>Not displayed</td>\n",
       "      <td>2500</td>\n",
       "      <td>79.50</td>\n",
       "    </tr>\n",
       "    <tr>\n",
       "      <th>40493</th>\n",
       "      <td>A</td>\n",
       "      <td>36</td>\n",
       "      <td>Completed</td>\n",
       "      <td>0.09638</td>\n",
       "      <td>0.0845</td>\n",
       "      <td>Not available</td>\n",
       "      <td>NaN</td>\n",
       "      <td>True</td>\n",
       "      <td>759.0</td>\n",
       "      <td>2.0</td>\n",
       "      <td>NaN</td>\n",
       "      <td>NaN</td>\n",
       "      <td>0.28000</td>\n",
       "      <td>Not displayed</td>\n",
       "      <td>4500</td>\n",
       "      <td>142.99</td>\n",
       "    </tr>\n",
       "    <tr>\n",
       "      <th>62000</th>\n",
       "      <td>A</td>\n",
       "      <td>36</td>\n",
       "      <td>Completed</td>\n",
       "      <td>0.08684</td>\n",
       "      <td>0.0750</td>\n",
       "      <td>Not available</td>\n",
       "      <td>NaN</td>\n",
       "      <td>False</td>\n",
       "      <td>739.0</td>\n",
       "      <td>0.0</td>\n",
       "      <td>NaN</td>\n",
       "      <td>NaN</td>\n",
       "      <td>0.04000</td>\n",
       "      <td>Not displayed</td>\n",
       "      <td>4000</td>\n",
       "      <td>125.35</td>\n",
       "    </tr>\n",
       "    <tr>\n",
       "      <th>25369</th>\n",
       "      <td>E</td>\n",
       "      <td>36</td>\n",
       "      <td>Chargedoff</td>\n",
       "      <td>0.20232</td>\n",
       "      <td>0.1900</td>\n",
       "      <td>Not available</td>\n",
       "      <td>NaN</td>\n",
       "      <td>False</td>\n",
       "      <td>559.0</td>\n",
       "      <td>6.0</td>\n",
       "      <td>NaN</td>\n",
       "      <td>NaN</td>\n",
       "      <td>0.05000</td>\n",
       "      <td>Not displayed</td>\n",
       "      <td>2800</td>\n",
       "      <td>103.35</td>\n",
       "    </tr>\n",
       "  </tbody>\n",
       "</table>\n",
       "</div>"
      ],
      "text/plain": [
       "       CreditGrade Term  LoanStatus  BorrowerAPR  LenderYield  \\\n",
       "52547            E   36   Completed      0.24502       0.2075   \n",
       "816              B   36   Defaulted      0.21438       0.1870   \n",
       "46382           HR   36  Chargedoff      0.18824       0.1450   \n",
       "91434           HR   36   Defaulted      0.28577       0.2450   \n",
       "76040            D   36   Completed      0.22945       0.2170   \n",
       "20418            A   36   Completed      0.10692       0.0950   \n",
       "63676            D   36   Completed      0.23036       0.2150   \n",
       "102494           E   36   Defaulted      0.29776       0.2850   \n",
       "74716            A   36   Completed      0.09427       0.0799   \n",
       "4156             E   36   Completed      0.17219       0.1600   \n",
       "19280            E   36   Completed      0.19139       0.1550   \n",
       "34181            A   36   Completed      0.10692       0.0950   \n",
       "37692            D   36  Chargedoff      0.11696       0.0900   \n",
       "102324           C   36   Completed      0.16215       0.1450   \n",
       "146              A   36   Completed      0.09939       0.0850   \n",
       "13087            B   36   Completed      0.16466       0.1525   \n",
       "11667            A   36   Completed      0.09688       0.0850   \n",
       "40493            A   36   Completed      0.09638       0.0845   \n",
       "62000            A   36   Completed      0.08684       0.0750   \n",
       "25369            E   36  Chargedoff      0.20232       0.1900   \n",
       "\n",
       "       EmploymentStatus  EmploymentStatusDuration  IsBorrowerHomeowner  \\\n",
       "52547               NaN                       NaN                False   \n",
       "816       Not available                       NaN                 True   \n",
       "46382     Not available                       NaN                 True   \n",
       "91434     Not available                       NaN                False   \n",
       "76040     Not available                       NaN                False   \n",
       "20418     Not available                       NaN                 True   \n",
       "63676     Not available                       NaN                False   \n",
       "102494    Not available                       NaN                False   \n",
       "74716     Not available                       NaN                False   \n",
       "4156      Not available                       NaN                False   \n",
       "19280     Not available                       NaN                False   \n",
       "34181     Not available                       NaN                False   \n",
       "37692     Not available                       NaN                False   \n",
       "102324              NaN                       NaN                False   \n",
       "146                 NaN                       NaN                False   \n",
       "13087     Not available                       NaN                False   \n",
       "11667     Not available                       NaN                 True   \n",
       "40493     Not available                       NaN                 True   \n",
       "62000     Not available                       NaN                False   \n",
       "25369     Not available                       NaN                False   \n",
       "\n",
       "        CreditScoreRangeUpper  DelinquenciesLast7Years  \\\n",
       "52547                   559.0                      NaN   \n",
       "816                     699.0                      0.0   \n",
       "46382                   519.0                     34.0   \n",
       "91434                   479.0                     29.0   \n",
       "76040                   639.0                      0.0   \n",
       "20418                   739.0                      0.0   \n",
       "63676                   639.0                      0.0   \n",
       "102494                  579.0                      0.0   \n",
       "74716                   739.0                      0.0   \n",
       "4156                    599.0                      0.0   \n",
       "19280                   599.0                      0.0   \n",
       "34181                   739.0                      0.0   \n",
       "37692                   619.0                      2.0   \n",
       "102324                    NaN                      NaN   \n",
       "146                     759.0                      0.0   \n",
       "13087                   719.0                      0.0   \n",
       "11667                   739.0                      0.0   \n",
       "40493                   759.0                      2.0   \n",
       "62000                   739.0                      0.0   \n",
       "25369                   559.0                      6.0   \n",
       "\n",
       "        RevolvingCreditBalance  AvailableBankcardCredit  DebtToIncomeRatio  \\\n",
       "52547                      NaN                      NaN            0.13594   \n",
       "816                        NaN                      NaN            0.86000   \n",
       "46382                      NaN                      NaN            0.20000   \n",
       "91434                      NaN                      NaN            0.02000   \n",
       "76040                      NaN                      NaN            0.23000   \n",
       "20418                      NaN                      NaN            0.35000   \n",
       "63676                      NaN                      NaN            0.09000   \n",
       "102494                     NaN                      NaN            0.29000   \n",
       "74716                      NaN                      NaN            0.17000   \n",
       "4156                       NaN                      NaN            0.07000   \n",
       "19280                      NaN                      NaN            0.14000   \n",
       "34181                      NaN                      NaN            0.16000   \n",
       "37692                      NaN                      NaN            0.18000   \n",
       "102324                     NaN                      NaN            0.09854   \n",
       "146                        NaN                      NaN            0.07000   \n",
       "13087                      NaN                      NaN            0.25000   \n",
       "11667                      NaN                      NaN            0.13000   \n",
       "40493                      NaN                      NaN            0.28000   \n",
       "62000                      NaN                      NaN            0.04000   \n",
       "25369                      NaN                      NaN            0.05000   \n",
       "\n",
       "          IncomeRange  LoanOriginalAmount  MonthlyLoanPayment  \n",
       "52547   Not displayed                2500               97.75  \n",
       "816     Not displayed                8500              318.93  \n",
       "46382   Not displayed                1000               35.65  \n",
       "91434   Not displayed                1225               50.01  \n",
       "76040   Not displayed               10002              383.02  \n",
       "20418   Not displayed                3000               96.80  \n",
       "63676   Not displayed                1800                0.00  \n",
       "102494  Not displayed                4000              167.62  \n",
       "74716   Not displayed                6000              190.07  \n",
       "4156    Not displayed                5000              177.02  \n",
       "19280   Not displayed                1600               57.84  \n",
       "34181   Not displayed                3000               96.80  \n",
       "37692   Not displayed                3000               98.22  \n",
       "102324  Not displayed                7500              261.83  \n",
       "146     Not displayed                4000              127.66  \n",
       "13087   Not displayed               10000              342.73  \n",
       "11667   Not displayed                2500               79.50  \n",
       "40493   Not displayed                4500              142.99  \n",
       "62000   Not displayed                4000              125.35  \n",
       "25369   Not displayed                2800              103.35  "
      ]
     },
     "execution_count": 200,
     "metadata": {},
     "output_type": "execute_result"
    }
   ],
   "source": [
    " loan_clean[loan_clean.AvailableBankcardCredit.isna()].sample(20)"
   ]
  },
  {
   "cell_type": "code",
   "execution_count": 201,
   "metadata": {},
   "outputs": [
    {
     "data": {
      "text/plain": [
       "36    7544\n",
       "60       0\n",
       "12       0\n",
       "Name: Term, dtype: int64"
      ]
     },
     "execution_count": 201,
     "metadata": {},
     "output_type": "execute_result"
    }
   ],
   "source": [
    " loan_clean[loan_clean.AvailableBankcardCredit.isna()].Term.value_counts()"
   ]
  },
  {
   "cell_type": "markdown",
   "metadata": {},
   "source": [
    "It seems that those entries that contain missing values for bankcard credit also contain missing values for some other columns. Also, it seems that it can be safe to rename NaN for Not available in **EmploymentStatus** column. Also notice that all entries that do not contain information for AvailableBankcardCredit correspond to loans on 36-month term... This is perhaps something to be wary about when drawing conclusions. However, for this analysis and bearing in mind that there are many more entries for 36-month loans that for any of the other two categories, then let's remove these rows.\n",
    "Another thing to note is that CreditGrade already contains a NaN value which is NC\n"
   ]
  },
  {
   "cell_type": "code",
   "execution_count": 202,
   "metadata": {},
   "outputs": [
    {
     "name": "stdout",
     "output_type": "stream",
     "text": [
      "<class 'pandas.core.frame.DataFrame'>\n",
      "Int64Index: 105522 entries, 0 to 113936\n",
      "Data columns (total 16 columns):\n",
      "CreditGrade                 105522 non-null category\n",
      "Term                        105522 non-null category\n",
      "LoanStatus                  105522 non-null object\n",
      "BorrowerAPR                 105522 non-null float64\n",
      "LenderYield                 105522 non-null float64\n",
      "EmploymentStatus            105522 non-null object\n",
      "EmploymentStatusDuration    105439 non-null float64\n",
      "IsBorrowerHomeowner         105522 non-null bool\n",
      "CreditScoreRangeUpper       105522 non-null float64\n",
      "DelinquenciesLast7Years     105500 non-null float64\n",
      "RevolvingCreditBalance      105462 non-null float64\n",
      "AvailableBankcardCredit     105522 non-null float64\n",
      "DebtToIncomeRatio           97172 non-null float64\n",
      "IncomeRange                 105522 non-null category\n",
      "LoanOriginalAmount          105522 non-null int64\n",
      "MonthlyLoanPayment          105522 non-null float64\n",
      "dtypes: bool(1), category(3), float64(9), int64(1), object(2)\n",
      "memory usage: 10.9+ MB\n"
     ]
    }
   ],
   "source": [
    "loan_clean.EmploymentStatus.replace(np.nan,'Not available',inplace=True)\n",
    "loan_clean.CreditGrade.replace(np.nan,'NC',inplace=True)\n",
    "loan_clean.drop(loan_clean[loan_clean.AvailableBankcardCredit.isna()].index,axis=0,inplace=True)\n",
    "loan_clean.info()"
   ]
  },
  {
   "cell_type": "markdown",
   "metadata": {},
   "source": [
    "EmploymentStatusDuration, RevolvingCreditBalance, DeliquenciesLast7Years and DebtToIncomeRatio are likely to impact the CreditGrade... Since all entries have an associated CreditGrade let's fill the missing gaps with the average value for the creditgrade group"
   ]
  },
  {
   "cell_type": "code",
   "execution_count": 203,
   "metadata": {},
   "outputs": [
    {
     "name": "stdout",
     "output_type": "stream",
     "text": [
      "<class 'pandas.core.frame.DataFrame'>\n",
      "Int64Index: 105522 entries, 0 to 113936\n",
      "Data columns (total 16 columns):\n",
      "CreditGrade                 105522 non-null category\n",
      "Term                        105522 non-null category\n",
      "LoanStatus                  105522 non-null object\n",
      "BorrowerAPR                 105522 non-null float64\n",
      "LenderYield                 105522 non-null float64\n",
      "EmploymentStatus            105522 non-null object\n",
      "EmploymentStatusDuration    105522 non-null float64\n",
      "IsBorrowerHomeowner         105522 non-null bool\n",
      "CreditScoreRangeUpper       105522 non-null float64\n",
      "DelinquenciesLast7Years     105522 non-null float64\n",
      "RevolvingCreditBalance      105522 non-null float64\n",
      "AvailableBankcardCredit     105522 non-null float64\n",
      "DebtToIncomeRatio           105522 non-null float64\n",
      "IncomeRange                 105522 non-null category\n",
      "LoanOriginalAmount          105522 non-null int64\n",
      "MonthlyLoanPayment          105522 non-null float64\n",
      "dtypes: bool(1), category(3), float64(9), int64(1), object(2)\n",
      "memory usage: 15.9+ MB\n"
     ]
    }
   ],
   "source": [
    "colToFil = ['EmploymentStatusDuration', 'RevolvingCreditBalance', 'DelinquenciesLast7Years','DebtToIncomeRatio']\n",
    "for col in colToFil:\n",
    "    dummyValues = loan_clean.groupby('CreditGrade').mean().reset_index()[['CreditGrade',col]]\n",
    "    valuesOnGrade = loan_clean[loan_clean[col].isna()].merge(dummyValues,how='left',on='CreditGrade')['{}_y'.format(col)]\n",
    "    indexesToWrite = loan_clean[loan_clean[col].isna()].index\n",
    "    loan_clean.loc[indexesToWrite,col] = valuesOnGrade.values\n",
    "    loan_clean[loan_clean[col].isna()]\n",
    "loan_clean.info()"
   ]
  },
  {
   "cell_type": "markdown",
   "metadata": {},
   "source": [
    "Now, there are no more missing entries. Discrete values can therefore be converted to int"
   ]
  },
  {
   "cell_type": "code",
   "execution_count": 211,
   "metadata": {},
   "outputs": [
    {
     "name": "stdout",
     "output_type": "stream",
     "text": [
      "<class 'pandas.core.frame.DataFrame'>\n",
      "Int64Index: 105522 entries, 0 to 113936\n",
      "Data columns (total 16 columns):\n",
      "CreditGrade                 105522 non-null category\n",
      "Term                        105522 non-null category\n",
      "LoanStatus                  105522 non-null object\n",
      "BorrowerAPR                 105522 non-null float64\n",
      "LenderYield                 105522 non-null float64\n",
      "EmploymentStatus            105522 non-null object\n",
      "EmploymentStatusDuration    105522 non-null int64\n",
      "IsBorrowerHomeowner         105522 non-null bool\n",
      "CreditScoreRangeUpper       105522 non-null int64\n",
      "DelinquenciesLast7Years     105522 non-null int64\n",
      "RevolvingCreditBalance      105522 non-null int64\n",
      "AvailableBankcardCredit     105522 non-null int64\n",
      "DebtToIncomeRatio           105522 non-null float64\n",
      "IncomeRange                 105522 non-null category\n",
      "LoanOriginalAmount          105522 non-null int64\n",
      "MonthlyLoanPayment          105522 non-null float64\n",
      "dtypes: bool(1), category(3), float64(4), int64(6), object(2)\n",
      "memory usage: 15.9+ MB\n"
     ]
    }
   ],
   "source": [
    "loan_clean.EmploymentStatusDuration = loan_clean.EmploymentStatusDuration.astype('int64')\n",
    "loan_clean.CreditScoreRangeUpper = loan_clean.CreditScoreRangeUpper.astype('int64')\n",
    "loan_clean.DelinquenciesLast7Years = loan_clean.DelinquenciesLast7Years.astype('int64')\n",
    "loan_clean.RevolvingCreditBalance = loan_clean.RevolvingCreditBalance.astype('int64')\n",
    "loan_clean.AvailableBankcardCredit = loan_clean.AvailableBankcardCredit.astype('int64')\n",
    "loan_clean.LoanOriginalAmount = loan_clean.LoanOriginalAmount.astype('int64')\n",
    "loan_clean.info()"
   ]
  },
  {
   "cell_type": "markdown",
   "metadata": {},
   "source": [
    "Let's check for outliers now"
   ]
  },
  {
   "cell_type": "code",
   "execution_count": 212,
   "metadata": {},
   "outputs": [
    {
     "data": {
      "text/html": [
       "<div>\n",
       "<style scoped>\n",
       "    .dataframe tbody tr th:only-of-type {\n",
       "        vertical-align: middle;\n",
       "    }\n",
       "\n",
       "    .dataframe tbody tr th {\n",
       "        vertical-align: top;\n",
       "    }\n",
       "\n",
       "    .dataframe thead th {\n",
       "        text-align: right;\n",
       "    }\n",
       "</style>\n",
       "<table border=\"1\" class=\"dataframe\">\n",
       "  <thead>\n",
       "    <tr style=\"text-align: right;\">\n",
       "      <th></th>\n",
       "      <th>BorrowerAPR</th>\n",
       "      <th>LenderYield</th>\n",
       "      <th>EmploymentStatusDuration</th>\n",
       "      <th>CreditScoreRangeUpper</th>\n",
       "      <th>DelinquenciesLast7Years</th>\n",
       "      <th>RevolvingCreditBalance</th>\n",
       "      <th>AvailableBankcardCredit</th>\n",
       "      <th>DebtToIncomeRatio</th>\n",
       "      <th>LoanOriginalAmount</th>\n",
       "      <th>MonthlyLoanPayment</th>\n",
       "    </tr>\n",
       "  </thead>\n",
       "  <tbody>\n",
       "    <tr>\n",
       "      <th>count</th>\n",
       "      <td>105522.000000</td>\n",
       "      <td>105522.000000</td>\n",
       "      <td>105522.000000</td>\n",
       "      <td>105522.000000</td>\n",
       "      <td>105522.000000</td>\n",
       "      <td>1.055220e+05</td>\n",
       "      <td>105522.000000</td>\n",
       "      <td>105522.000000</td>\n",
       "      <td>105522.000000</td>\n",
       "      <td>105522.000000</td>\n",
       "    </tr>\n",
       "    <tr>\n",
       "      <th>mean</th>\n",
       "      <td>0.220380</td>\n",
       "      <td>0.183041</td>\n",
       "      <td>96.058831</td>\n",
       "      <td>710.200508</td>\n",
       "      <td>3.928792</td>\n",
       "      <td>1.759210e+04</td>\n",
       "      <td>11208.182028</td>\n",
       "      <td>0.276848</td>\n",
       "      <td>8543.270702</td>\n",
       "      <td>278.457870</td>\n",
       "    </tr>\n",
       "    <tr>\n",
       "      <th>std</th>\n",
       "      <td>0.081034</td>\n",
       "      <td>0.075078</td>\n",
       "      <td>94.395073</td>\n",
       "      <td>56.659748</td>\n",
       "      <td>9.800208</td>\n",
       "      <td>3.293661e+04</td>\n",
       "      <td>19847.681185</td>\n",
       "      <td>0.505246</td>\n",
       "      <td>6257.927037</td>\n",
       "      <td>192.044722</td>\n",
       "    </tr>\n",
       "    <tr>\n",
       "      <th>min</th>\n",
       "      <td>0.006530</td>\n",
       "      <td>-0.010000</td>\n",
       "      <td>0.000000</td>\n",
       "      <td>19.000000</td>\n",
       "      <td>0.000000</td>\n",
       "      <td>0.000000e+00</td>\n",
       "      <td>0.000000</td>\n",
       "      <td>0.000000</td>\n",
       "      <td>1000.000000</td>\n",
       "      <td>0.000000</td>\n",
       "    </tr>\n",
       "    <tr>\n",
       "      <th>25%</th>\n",
       "      <td>0.157130</td>\n",
       "      <td>0.123500</td>\n",
       "      <td>26.000000</td>\n",
       "      <td>679.000000</td>\n",
       "      <td>0.000000</td>\n",
       "      <td>3.102000e+03</td>\n",
       "      <td>876.000000</td>\n",
       "      <td>0.150000</td>\n",
       "      <td>4000.000000</td>\n",
       "      <td>138.370000</td>\n",
       "    </tr>\n",
       "    <tr>\n",
       "      <th>50%</th>\n",
       "      <td>0.211150</td>\n",
       "      <td>0.173000</td>\n",
       "      <td>67.000000</td>\n",
       "      <td>699.000000</td>\n",
       "      <td>0.000000</td>\n",
       "      <td>8.538000e+03</td>\n",
       "      <td>4090.000000</td>\n",
       "      <td>0.230000</td>\n",
       "      <td>7000.000000</td>\n",
       "      <td>228.240000</td>\n",
       "    </tr>\n",
       "    <tr>\n",
       "      <th>75%</th>\n",
       "      <td>0.285740</td>\n",
       "      <td>0.241100</td>\n",
       "      <td>137.000000</td>\n",
       "      <td>739.000000</td>\n",
       "      <td>3.000000</td>\n",
       "      <td>1.951950e+04</td>\n",
       "      <td>13165.000000</td>\n",
       "      <td>0.310000</td>\n",
       "      <td>12000.000000</td>\n",
       "      <td>376.750000</td>\n",
       "    </tr>\n",
       "    <tr>\n",
       "      <th>max</th>\n",
       "      <td>0.423950</td>\n",
       "      <td>0.340000</td>\n",
       "      <td>755.000000</td>\n",
       "      <td>899.000000</td>\n",
       "      <td>99.000000</td>\n",
       "      <td>1.435667e+06</td>\n",
       "      <td>646285.000000</td>\n",
       "      <td>10.010000</td>\n",
       "      <td>35000.000000</td>\n",
       "      <td>2251.510000</td>\n",
       "    </tr>\n",
       "  </tbody>\n",
       "</table>\n",
       "</div>"
      ],
      "text/plain": [
       "         BorrowerAPR    LenderYield  EmploymentStatusDuration  \\\n",
       "count  105522.000000  105522.000000             105522.000000   \n",
       "mean        0.220380       0.183041                 96.058831   \n",
       "std         0.081034       0.075078                 94.395073   \n",
       "min         0.006530      -0.010000                  0.000000   \n",
       "25%         0.157130       0.123500                 26.000000   \n",
       "50%         0.211150       0.173000                 67.000000   \n",
       "75%         0.285740       0.241100                137.000000   \n",
       "max         0.423950       0.340000                755.000000   \n",
       "\n",
       "       CreditScoreRangeUpper  DelinquenciesLast7Years  RevolvingCreditBalance  \\\n",
       "count          105522.000000            105522.000000            1.055220e+05   \n",
       "mean              710.200508                 3.928792            1.759210e+04   \n",
       "std                56.659748                 9.800208            3.293661e+04   \n",
       "min                19.000000                 0.000000            0.000000e+00   \n",
       "25%               679.000000                 0.000000            3.102000e+03   \n",
       "50%               699.000000                 0.000000            8.538000e+03   \n",
       "75%               739.000000                 3.000000            1.951950e+04   \n",
       "max               899.000000                99.000000            1.435667e+06   \n",
       "\n",
       "       AvailableBankcardCredit  DebtToIncomeRatio  LoanOriginalAmount  \\\n",
       "count            105522.000000      105522.000000       105522.000000   \n",
       "mean              11208.182028           0.276848         8543.270702   \n",
       "std               19847.681185           0.505246         6257.927037   \n",
       "min                   0.000000           0.000000         1000.000000   \n",
       "25%                 876.000000           0.150000         4000.000000   \n",
       "50%                4090.000000           0.230000         7000.000000   \n",
       "75%               13165.000000           0.310000        12000.000000   \n",
       "max              646285.000000          10.010000        35000.000000   \n",
       "\n",
       "       MonthlyLoanPayment  \n",
       "count       105522.000000  \n",
       "mean           278.457870  \n",
       "std            192.044722  \n",
       "min              0.000000  \n",
       "25%            138.370000  \n",
       "50%            228.240000  \n",
       "75%            376.750000  \n",
       "max           2251.510000  "
      ]
     },
     "execution_count": 212,
     "metadata": {},
     "output_type": "execute_result"
    }
   ],
   "source": [
    "loan_clean.describe()"
   ]
  },
  {
   "cell_type": "code",
   "execution_count": 232,
   "metadata": {},
   "outputs": [
    {
     "data": {
      "image/png": "[encoded data removed]",
      "text/plain": [
       "<Figure size 1008x576 with 10 Axes>"
      ]
     },
     "metadata": {
      "needs_background": "light"
     },
     "output_type": "display_data"
    }
   ],
   "source": [
    "boxplotvarlist = ['BorrowerAPR','LenderYield','EmploymentStatusDuration','CreditScoreRangeUpper','DelinquenciesLast7Years','RevolvingCreditBalance','AvailableBankcardCredit','DebtToIncomeRatio','LoanOriginalAmount','MonthlyLoanPayment']\n",
    "plt.figure(figsize=[14,8]);\n",
    "for i,var in enumerate(boxplotvarlist):\n",
    "    plt.subplot(2,5,i+1)\n",
    "    sb.boxplot(data=loan_clean, x=var)"
   ]
  },
  {
   "cell_type": "markdown",
   "metadata": {},
   "source": [
    "From the graph above it can be seen that some variables are really skewed, others are more evenly distributed. There is one though that seems to contain wrong values. **CreditScoreRangeUpper** seems to have unsually low values that I need to inspect. The other variables look somehow normal to me, so I will not inspect them further to look for outliers"
   ]
  },
  {
   "cell_type": "code",
   "execution_count": 233,
   "metadata": {},
   "outputs": [
    {
     "data": {
      "text/html": [
       "<div>\n",
       "<style scoped>\n",
       "    .dataframe tbody tr th:only-of-type {\n",
       "        vertical-align: middle;\n",
       "    }\n",
       "\n",
       "    .dataframe tbody tr th {\n",
       "        vertical-align: top;\n",
       "    }\n",
       "\n",
       "    .dataframe thead th {\n",
       "        text-align: right;\n",
       "    }\n",
       "</style>\n",
       "<table border=\"1\" class=\"dataframe\">\n",
       "  <thead>\n",
       "    <tr style=\"text-align: right;\">\n",
       "      <th></th>\n",
       "      <th>CreditGrade</th>\n",
       "      <th>Term</th>\n",
       "      <th>LoanStatus</th>\n",
       "      <th>BorrowerAPR</th>\n",
       "      <th>LenderYield</th>\n",
       "      <th>EmploymentStatus</th>\n",
       "      <th>EmploymentStatusDuration</th>\n",
       "      <th>IsBorrowerHomeowner</th>\n",
       "      <th>CreditScoreRangeUpper</th>\n",
       "      <th>DelinquenciesLast7Years</th>\n",
       "      <th>RevolvingCreditBalance</th>\n",
       "      <th>AvailableBankcardCredit</th>\n",
       "      <th>DebtToIncomeRatio</th>\n",
       "      <th>IncomeRange</th>\n",
       "      <th>LoanOriginalAmount</th>\n",
       "      <th>MonthlyLoanPayment</th>\n",
       "    </tr>\n",
       "  </thead>\n",
       "  <tbody>\n",
       "    <tr>\n",
       "      <th>794</th>\n",
       "      <td>NC</td>\n",
       "      <td>36</td>\n",
       "      <td>Completed</td>\n",
       "      <td>0.29776</td>\n",
       "      <td>0.285</td>\n",
       "      <td>Not available</td>\n",
       "      <td>74</td>\n",
       "      <td>False</td>\n",
       "      <td>19</td>\n",
       "      <td>2</td>\n",
       "      <td>12039</td>\n",
       "      <td>0</td>\n",
       "      <td>0.25</td>\n",
       "      <td>Not displayed</td>\n",
       "      <td>4000</td>\n",
       "      <td>167.62</td>\n",
       "    </tr>\n",
       "    <tr>\n",
       "      <th>109468</th>\n",
       "      <td>NC</td>\n",
       "      <td>36</td>\n",
       "      <td>Completed</td>\n",
       "      <td>0.12700</td>\n",
       "      <td>0.105</td>\n",
       "      <td>Not available</td>\n",
       "      <td>74</td>\n",
       "      <td>False</td>\n",
       "      <td>19</td>\n",
       "      <td>2</td>\n",
       "      <td>12039</td>\n",
       "      <td>0</td>\n",
       "      <td>0.25</td>\n",
       "      <td>Not displayed</td>\n",
       "      <td>2550</td>\n",
       "      <td>84.70</td>\n",
       "    </tr>\n",
       "  </tbody>\n",
       "</table>\n",
       "</div>"
      ],
      "text/plain": [
       "       CreditGrade Term LoanStatus  BorrowerAPR  LenderYield EmploymentStatus  \\\n",
       "794             NC   36  Completed      0.29776        0.285    Not available   \n",
       "109468          NC   36  Completed      0.12700        0.105    Not available   \n",
       "\n",
       "        EmploymentStatusDuration  IsBorrowerHomeowner  CreditScoreRangeUpper  \\\n",
       "794                           74                False                     19   \n",
       "109468                        74                False                     19   \n",
       "\n",
       "        DelinquenciesLast7Years  RevolvingCreditBalance  \\\n",
       "794                           2                   12039   \n",
       "109468                        2                   12039   \n",
       "\n",
       "        AvailableBankcardCredit  DebtToIncomeRatio    IncomeRange  \\\n",
       "794                           0               0.25  Not displayed   \n",
       "109468                        0               0.25  Not displayed   \n",
       "\n",
       "        LoanOriginalAmount  MonthlyLoanPayment  \n",
       "794                   4000              167.62  \n",
       "109468                2550               84.70  "
      ]
     },
     "execution_count": 233,
     "metadata": {},
     "output_type": "execute_result"
    }
   ],
   "source": [
    "loan_clean[loan_clean.CreditScoreRangeUpper < 250]"
   ]
  },
  {
   "cell_type": "markdown",
   "metadata": {},
   "source": [
    "This inspection shows that most parameters have been filled in with mean values as the originals were probably missing. The fact that CreditScoreRangeUpper contains doggy values suggests that perhaps the whole entry is not reliable. Let's remove these two entries from the cleaned dataset"
   ]
  },
  {
   "cell_type": "code",
   "execution_count": 239,
   "metadata": {},
   "outputs": [
    {
     "data": {
      "image/png": "[encoded data removed]",
      "text/plain": [
       "<Figure size 432x288 with 1 Axes>"
      ]
     },
     "metadata": {
      "needs_background": "light"
     },
     "output_type": "display_data"
    }
   ],
   "source": [
    "loan_clean.drop(loan_clean[loan_clean.CreditScoreRangeUpper < 250].index,axis=0,inplace=True)\n",
    "sb.boxplot(data=loan_clean, x='CreditScoreRangeUpper');"
   ]
  },
  {
   "cell_type": "markdown",
   "metadata": {},
   "source": [
    "Let's see what happens with non-numerical variables"
   ]
  },
  {
   "cell_type": "code",
   "execution_count": 249,
   "metadata": {},
   "outputs": [
    {
     "data": {
      "text/html": [
       "<div>\n",
       "<style scoped>\n",
       "    .dataframe tbody tr th:only-of-type {\n",
       "        vertical-align: middle;\n",
       "    }\n",
       "\n",
       "    .dataframe tbody tr th {\n",
       "        vertical-align: top;\n",
       "    }\n",
       "\n",
       "    .dataframe thead th {\n",
       "        text-align: right;\n",
       "    }\n",
       "</style>\n",
       "<table border=\"1\" class=\"dataframe\">\n",
       "  <thead>\n",
       "    <tr style=\"text-align: right;\">\n",
       "      <th></th>\n",
       "      <th>CreditGrade</th>\n",
       "      <th>Term</th>\n",
       "      <th>LoanStatus</th>\n",
       "      <th>EmploymentStatus</th>\n",
       "      <th>IsBorrowerHomeowner</th>\n",
       "      <th>IncomeRange</th>\n",
       "    </tr>\n",
       "  </thead>\n",
       "  <tbody>\n",
       "    <tr>\n",
       "      <th>count</th>\n",
       "      <td>105520</td>\n",
       "      <td>105520</td>\n",
       "      <td>105520</td>\n",
       "      <td>105520</td>\n",
       "      <td>105520</td>\n",
       "      <td>105520</td>\n",
       "    </tr>\n",
       "    <tr>\n",
       "      <th>unique</th>\n",
       "      <td>8</td>\n",
       "      <td>3</td>\n",
       "      <td>12</td>\n",
       "      <td>8</td>\n",
       "      <td>2</td>\n",
       "      <td>8</td>\n",
       "    </tr>\n",
       "    <tr>\n",
       "      <th>top</th>\n",
       "      <td>C</td>\n",
       "      <td>36</td>\n",
       "      <td>Current</td>\n",
       "      <td>Employed</td>\n",
       "      <td>True</td>\n",
       "      <td>$25,000-49,999</td>\n",
       "    </tr>\n",
       "    <tr>\n",
       "      <th>freq</th>\n",
       "      <td>22642</td>\n",
       "      <td>79678</td>\n",
       "      <td>55730</td>\n",
       "      <td>66598</td>\n",
       "      <td>54523</td>\n",
       "      <td>31940</td>\n",
       "    </tr>\n",
       "  </tbody>\n",
       "</table>\n",
       "</div>"
      ],
      "text/plain": [
       "       CreditGrade    Term LoanStatus EmploymentStatus IsBorrowerHomeowner  \\\n",
       "count       105520  105520     105520           105520              105520   \n",
       "unique           8       3         12                8                   2   \n",
       "top              C      36    Current         Employed                True   \n",
       "freq         22642   79678      55730            66598               54523   \n",
       "\n",
       "           IncomeRange  \n",
       "count           105520  \n",
       "unique               8  \n",
       "top     $25,000-49,999  \n",
       "freq             31940  "
      ]
     },
     "execution_count": 249,
     "metadata": {},
     "output_type": "execute_result"
    }
   ],
   "source": [
    "loan_clean.describe(exclude = np.number)"
   ]
  },
  {
   "cell_type": "markdown",
   "metadata": {},
   "source": [
    "There is nothing relevante on this front...\n",
    "**Data wrangling has been completed** and now we have a clean data set to work with. In this data set there is a good mix of all data types seen throughout the course. As described before there are discrete and continuous values as well as ordinal and categorical data."
   ]
  },
  {
   "cell_type": "markdown",
   "metadata": {},
   "source": [
    "### What is the structure of your dataset?\n",
    "\n",
    "> Your answer here!\n",
    "\n",
    "### What is/are the main feature(s) of interest in your dataset?\n",
    "\n",
    "> Your answer here!\n",
    "\n",
    "### What features in the dataset do you think will help support your investigation into your feature(s) of interest?\n",
    "\n",
    "> Your answer here!"
   ]
  },
  {
   "cell_type": "markdown",
   "metadata": {},
   "source": [
    "## Univariate Exploration\n",
    "\n",
    "> In this section, investigate distributions of individual variables. If\n",
    "you see unusual points or outliers, take a deeper look to clean things up\n",
    "and prepare yourself to look at relationships between variables."
   ]
  },
  {
   "cell_type": "code",
   "execution_count": null,
   "metadata": {},
   "outputs": [],
   "source": []
  },
  {
   "cell_type": "markdown",
   "metadata": {},
   "source": [
    "> Make sure that, after every plot or related series of plots, that you\n",
    "include a Markdown cell with comments about what you observed, and what\n",
    "you plan on investigating next."
   ]
  },
  {
   "cell_type": "code",
   "execution_count": null,
   "metadata": {},
   "outputs": [],
   "source": []
  },
  {
   "cell_type": "markdown",
   "metadata": {},
   "source": [
    "### Discuss the distribution(s) of your variable(s) of interest. Were there any unusual points? Did you need to perform any transformations?\n",
    "\n",
    "> Your answer here!\n",
    "\n",
    "### Of the features you investigated, were there any unusual distributions? Did you perform any operations on the data to tidy, adjust, or change the form of the data? If so, why did you do this?\n",
    "\n",
    "> Your answer here!"
   ]
  },
  {
   "cell_type": "markdown",
   "metadata": {},
   "source": [
    "## Bivariate Exploration\n",
    "\n",
    "> In this section, investigate relationships between pairs of variables in your\n",
    "data. Make sure the variables that you cover here have been introduced in some\n",
    "fashion in the previous section (univariate exploration)."
   ]
  },
  {
   "cell_type": "code",
   "execution_count": null,
   "metadata": {},
   "outputs": [],
   "source": []
  },
  {
   "cell_type": "markdown",
   "metadata": {},
   "source": [
    "### Talk about some of the relationships you observed in this part of the investigation. How did the feature(s) of interest vary with other features in the dataset?\n",
    "\n",
    "> Your answer here!\n",
    "\n",
    "### Did you observe any interesting relationships between the other features (not the main feature(s) of interest)?\n",
    "\n",
    "> Your answer here!"
   ]
  },
  {
   "cell_type": "markdown",
   "metadata": {},
   "source": [
    "## Multivariate Exploration\n",
    "\n",
    "> Create plots of three or more variables to investigate your data even\n",
    "further. Make sure that your investigations are justified, and follow from\n",
    "your work in the previous sections."
   ]
  },
  {
   "cell_type": "code",
   "execution_count": null,
   "metadata": {},
   "outputs": [],
   "source": []
  },
  {
   "cell_type": "markdown",
   "metadata": {},
   "source": [
    "### Talk about some of the relationships you observed in this part of the investigation. Were there features that strengthened each other in terms of looking at your feature(s) of interest?\n",
    "\n",
    "> Your answer here!\n",
    "\n",
    "### Were there any interesting or surprising interactions between features?\n",
    "\n",
    "> Your answer here!"
   ]
  },
  {
   "cell_type": "markdown",
   "metadata": {},
   "source": [
    "> At the end of your report, make sure that you export the notebook as an\n",
    "html file from the `File > Download as... > HTML` menu. Make sure you keep\n",
    "track of where the exported file goes, so you can put it in the same folder\n",
    "as this notebook for project submission. Also, make sure you remove all of\n",
    "the quote-formatted guide notes like this one before you finish your report!"
   ]
  },
  {
   "cell_type": "code",
   "execution_count": null,
   "metadata": {},
   "outputs": [],
   "source": []
  }
 ],
 "metadata": {
  "kernelspec": {
   "display_name": "Python [default]",
   "language": "python",
   "name": "python3"
  },
  "language_info": {
   "codemirror_mode": {
    "name": "ipython",
    "version": 3
   },
   "file_extension": ".py",
   "mimetype": "text/x-python",
   "name": "python",
   "nbconvert_exporter": "python",
   "pygments_lexer": "ipython3",
   "version": "3.7.0"
  }
 },
 "nbformat": 4,
 "nbformat_minor": 2
}
