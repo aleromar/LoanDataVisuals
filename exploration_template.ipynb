{
 "cells": [
  {
   "cell_type": "markdown",
   "metadata": {},
   "source": [
    "# Prosper Loan Data\n",
    "## by Alejandro Rodriguez Martinez\n",
    "\n",
    "## Preliminary Wrangling\n",
    "\n",
    "> This dataset contains information on loans given to individuals. There are 113937 entries with 81 variables each. For this analysis only a subset of them will be chosen. Interesting variables include Borrower's APR, Loan Status or Credit score to name a few"
   ]
  },
  {
   "cell_type": "code",
   "execution_count": 1,
   "metadata": {},
   "outputs": [],
   "source": [
    "# import all packages and set plots to be embedded inline\n",
    "import numpy as np\n",
    "import pandas as pd\n",
    "import matplotlib.pyplot as plt\n",
    "import seaborn as sb\n",
    "from scipy.stats import norm\n",
    "%matplotlib inline"
   ]
  },
  {
   "cell_type": "markdown",
   "metadata": {},
   "source": [
    "Let's load the dataset and get an overview of the main properties for the data."
   ]
  },
  {
   "cell_type": "code",
   "execution_count": 2,
   "metadata": {},
   "outputs": [
    {
     "name": "stdout",
     "output_type": "stream",
     "text": [
      "<class 'pandas.core.frame.DataFrame'>\n",
      "RangeIndex: 113937 entries, 0 to 113936\n",
      "Data columns (total 81 columns):\n",
      "ListingKey                             113937 non-null object\n",
      "ListingNumber                          113937 non-null int64\n",
      "ListingCreationDate                    113937 non-null object\n",
      "CreditGrade                            28953 non-null object\n",
      "Term                                   113937 non-null int64\n",
      "LoanStatus                             113937 non-null object\n",
      "ClosedDate                             55089 non-null object\n",
      "BorrowerAPR                            113912 non-null float64\n",
      "BorrowerRate                           113937 non-null float64\n",
      "LenderYield                            113937 non-null float64\n",
      "EstimatedEffectiveYield                84853 non-null float64\n",
      "EstimatedLoss                          84853 non-null float64\n",
      "EstimatedReturn                        84853 non-null float64\n",
      "ProsperRating (numeric)                84853 non-null float64\n",
      "ProsperRating (Alpha)                  84853 non-null object\n",
      "ProsperScore                           84853 non-null float64\n",
      "ListingCategory (numeric)              113937 non-null int64\n",
      "BorrowerState                          108422 non-null object\n",
      "Occupation                             110349 non-null object\n",
      "EmploymentStatus                       111682 non-null object\n",
      "EmploymentStatusDuration               106312 non-null float64\n",
      "IsBorrowerHomeowner                    113937 non-null bool\n",
      "CurrentlyInGroup                       113937 non-null bool\n",
      "GroupKey                               13341 non-null object\n",
      "DateCreditPulled                       113937 non-null object\n",
      "CreditScoreRangeLower                  113346 non-null float64\n",
      "CreditScoreRangeUpper                  113346 non-null float64\n",
      "FirstRecordedCreditLine                113240 non-null object\n",
      "CurrentCreditLines                     106333 non-null float64\n",
      "OpenCreditLines                        106333 non-null float64\n",
      "TotalCreditLinespast7years             113240 non-null float64\n",
      "OpenRevolvingAccounts                  113937 non-null int64\n",
      "OpenRevolvingMonthlyPayment            113937 non-null float64\n",
      "InquiriesLast6Months                   113240 non-null float64\n",
      "TotalInquiries                         112778 non-null float64\n",
      "CurrentDelinquencies                   113240 non-null float64\n",
      "AmountDelinquent                       106315 non-null float64\n",
      "DelinquenciesLast7Years                112947 non-null float64\n",
      "PublicRecordsLast10Years               113240 non-null float64\n",
      "PublicRecordsLast12Months              106333 non-null float64\n",
      "RevolvingCreditBalance                 106333 non-null float64\n",
      "BankcardUtilization                    106333 non-null float64\n",
      "AvailableBankcardCredit                106393 non-null float64\n",
      "TotalTrades                            106393 non-null float64\n",
      "TradesNeverDelinquent (percentage)     106393 non-null float64\n",
      "TradesOpenedLast6Months                106393 non-null float64\n",
      "DebtToIncomeRatio                      105383 non-null float64\n",
      "IncomeRange                            113937 non-null object\n",
      "IncomeVerifiable                       113937 non-null bool\n",
      "StatedMonthlyIncome                    113937 non-null float64\n",
      "LoanKey                                113937 non-null object\n",
      "TotalProsperLoans                      22085 non-null float64\n",
      "TotalProsperPaymentsBilled             22085 non-null float64\n",
      "OnTimeProsperPayments                  22085 non-null float64\n",
      "ProsperPaymentsLessThanOneMonthLate    22085 non-null float64\n",
      "ProsperPaymentsOneMonthPlusLate        22085 non-null float64\n",
      "ProsperPrincipalBorrowed               22085 non-null float64\n",
      "ProsperPrincipalOutstanding            22085 non-null float64\n",
      "ScorexChangeAtTimeOfListing            18928 non-null float64\n",
      "LoanCurrentDaysDelinquent              113937 non-null int64\n",
      "LoanFirstDefaultedCycleNumber          16952 non-null float64\n",
      "LoanMonthsSinceOrigination             113937 non-null int64\n",
      "LoanNumber                             113937 non-null int64\n",
      "LoanOriginalAmount                     113937 non-null int64\n",
      "LoanOriginationDate                    113937 non-null object\n",
      "LoanOriginationQuarter                 113937 non-null object\n",
      "MemberKey                              113937 non-null object\n",
      "MonthlyLoanPayment                     113937 non-null float64\n",
      "LP_CustomerPayments                    113937 non-null float64\n",
      "LP_CustomerPrincipalPayments           113937 non-null float64\n",
      "LP_InterestandFees                     113937 non-null float64\n",
      "LP_ServiceFees                         113937 non-null float64\n",
      "LP_CollectionFees                      113937 non-null float64\n",
      "LP_GrossPrincipalLoss                  113937 non-null float64\n",
      "LP_NetPrincipalLoss                    113937 non-null float64\n",
      "LP_NonPrincipalRecoverypayments        113937 non-null float64\n",
      "PercentFunded                          113937 non-null float64\n",
      "Recommendations                        113937 non-null int64\n",
      "InvestmentFromFriendsCount             113937 non-null int64\n",
      "InvestmentFromFriendsAmount            113937 non-null float64\n",
      "Investors                              113937 non-null int64\n",
      "dtypes: bool(3), float64(50), int64(11), object(17)\n",
      "memory usage: 68.1+ MB\n"
     ]
    }
   ],
   "source": [
    "loan = pd.read_csv('prosperLoanData.csv')\n",
    "loan.info()"
   ]
  },
  {
   "cell_type": "markdown",
   "metadata": {},
   "source": [
    "There are a few columns that are IDs, these can be removed. IDs may be of use when joining different dataframes or when drawing conclusions for specific individuals. However this analysis is rather on the aggregated side. The idea is to find out relationship between variables in the data set as a whole and so IDs are of no use in this case. However before removing unique IDs, let's make sure there are no duplicates"
   ]
  },
  {
   "cell_type": "code",
   "execution_count": 4,
   "metadata": {},
   "outputs": [
    {
     "data": {
      "text/plain": [
       "827"
      ]
     },
     "execution_count": 4,
     "metadata": {},
     "output_type": "execute_result"
    }
   ],
   "source": [
    "listingkeyfilt= [i for i,j in loan.ListingKey.value_counts().iteritems() if j > 1]\n",
    "len(listingkeyfilt)   # ProsperScore seems to be not reliable"
   ]
  },
  {
   "cell_type": "markdown",
   "metadata": {},
   "source": [
    "It seems that there are many duplicates for column ListingKey. However when using pandas duplicated() method, pandas seems to suggest that there are no duplicates.\n"
   ]
  },
  {
   "cell_type": "code",
   "execution_count": 5,
   "metadata": {},
   "outputs": [
    {
     "data": {
      "text/plain": [
       "0"
      ]
     },
     "execution_count": 5,
     "metadata": {},
     "output_type": "execute_result"
    }
   ],
   "source": [
    "sum(loan.duplicated())"
   ]
  },
  {
   "cell_type": "markdown",
   "metadata": {},
   "source": [
    "This leads me to think that there are columns that are different for the same ListingKey ID. Visual inspection in Excel reveals that **ProsperScore** column contains different numbers for what otherwise would be an duplicate entry. To me it doesn't make sense to allocate different risk scores to the same data. Therefore this column seems unreliable and it will be a column we will drop for our analysis."
   ]
  },
  {
   "cell_type": "code",
   "execution_count": 36,
   "metadata": {},
   "outputs": [
    {
     "data": {
      "text/plain": [
       "871"
      ]
     },
     "execution_count": 36,
     "metadata": {},
     "output_type": "execute_result"
    }
   ],
   "source": [
    "loan_clean = loan.drop('ProsperScore',axis=1)\n",
    "sum(loan_clean.ListingKey.duplicated())"
   ]
  },
  {
   "cell_type": "markdown",
   "metadata": {},
   "source": [
    "It can be observed above that now there are 871 rows that are duplicated and thus can be removed. Let's do so"
   ]
  },
  {
   "cell_type": "code",
   "execution_count": 37,
   "metadata": {},
   "outputs": [
    {
     "name": "stdout",
     "output_type": "stream",
     "text": [
      "113937\n",
      "113066\n"
     ]
    }
   ],
   "source": [
    "print(loan_clean.shape[0])\n",
    "loan_clean.drop_duplicates(inplace=True)\n",
    "print(loan_clean.shape[0])"
   ]
  },
  {
   "cell_type": "markdown",
   "metadata": {},
   "source": [
    "Other column that show IDs are: ListingNumber, LoanKey, LoanNumber. Let's remove them"
   ]
  },
  {
   "cell_type": "code",
   "execution_count": 38,
   "metadata": {},
   "outputs": [
    {
     "data": {
      "text/plain": [
       "(113066, 76)"
      ]
     },
     "execution_count": 38,
     "metadata": {},
     "output_type": "execute_result"
    }
   ],
   "source": [
    "for colnametoDrop in ['ListingKey','ListingNumber', 'LoanKey', 'LoanNumber']:\n",
    "    loan_clean.drop(colnametoDrop,axis=1,inplace=True)\n",
    "loan_clean.shape"
   ]
  },
  {
   "cell_type": "markdown",
   "metadata": {},
   "source": [
    "MemberKey and GroupKey columns are not unique, but we are not interested in particular customers, so these columns can be removed as well"
   ]
  },
  {
   "cell_type": "code",
   "execution_count": 39,
   "metadata": {
    "scrolled": true
   },
   "outputs": [
    {
     "data": {
      "text/plain": [
       "(113066, 74)"
      ]
     },
     "execution_count": 39,
     "metadata": {},
     "output_type": "execute_result"
    }
   ],
   "source": [
    "loan_clean.drop(['MemberKey','GroupKey'],axis=1,inplace=True)\n",
    "loan_clean.shape"
   ]
  },
  {
   "cell_type": "markdown",
   "metadata": {
    "scrolled": true
   },
   "source": [
    "There are some other columns that contain too many NaN values, when deciding which columns to analyse the ones that contain less information will be discarded. However since there are so many columns that need to be removed, it may be more sensible to select the subset of columns that we want to analyse.\n",
    "For starters, let's narrow down the number of variables to 17 columns that we can group in the following manner   \n",
    "\n",
    "**Numerical Discrete**\n",
    "- 'EmploymentStatusDuration' \n",
    "- 'CreditScoreRangeUpper'\n",
    "- 'DelinquenciesLast7Years'\n",
    "- 'RevolvingCreditBalance'\n",
    "- 'AvailableBankcardCredit'\n",
    "- 'LoanOriginalAmount'  \n",
    "\n",
    "**Numerical Continuous**\n",
    "- 'BorrowerAPR' \n",
    "- 'LenderYield'\n",
    "- 'DebtToIncomeRatio'\n",
    "\n",
    "**Categorical/ Nominal**\n",
    "- 'EmploymentStatus'    -  9 categories\n",
    "- 'IsBorrowerHomeowner' - 2 categories\n",
    "- 'LoanStatus'    - 12 categories    \n",
    "\n",
    "**Ordinal**\n",
    "- 'Term'\n",
    "- 'IncomeRange'\n",
    "- 'CreditGrade'                         \n",
    "- 'ProsperRating (Alpha)'               "
   ]
  },
  {
   "cell_type": "code",
   "execution_count": 40,
   "metadata": {},
   "outputs": [
    {
     "name": "stdout",
     "output_type": "stream",
     "text": [
      "<class 'pandas.core.frame.DataFrame'>\n",
      "Int64Index: 113066 entries, 0 to 113936\n",
      "Data columns (total 16 columns):\n",
      "CreditGrade                 28953 non-null object\n",
      "Term                        113066 non-null int64\n",
      "LoanStatus                  113066 non-null object\n",
      "BorrowerAPR                 113041 non-null float64\n",
      "LenderYield                 113066 non-null float64\n",
      "ProsperRating (Alpha)       83982 non-null object\n",
      "EmploymentStatus            110811 non-null object\n",
      "EmploymentStatusDuration    105441 non-null float64\n",
      "IsBorrowerHomeowner         113066 non-null bool\n",
      "CreditScoreRangeUpper       112475 non-null float64\n",
      "DelinquenciesLast7Years     112076 non-null float64\n",
      "RevolvingCreditBalance      105462 non-null float64\n",
      "AvailableBankcardCredit     105522 non-null float64\n",
      "DebtToIncomeRatio           104594 non-null float64\n",
      "IncomeRange                 113066 non-null object\n",
      "LoanOriginalAmount          113066 non-null int64\n",
      "dtypes: bool(1), float64(8), int64(2), object(5)\n",
      "memory usage: 13.9+ MB\n"
     ]
    }
   ],
   "source": [
    "columnsToKeep = ['EmploymentStatusDuration','CreditScoreRangeUpper','DelinquenciesLast7Years','RevolvingCreditBalance','AvailableBankcardCredit','LoanOriginalAmount','BorrowerAPR','LenderYield','DebtToIncomeRatio','EmploymentStatus','IsBorrowerHomeowner','LoanStatus','Term','IncomeRange','CreditGrade','ProsperRating (Alpha)']\n",
    "loan_clean.drop([x for x in loan_clean.columns if x not in columnsToKeep],axis=1,inplace=True)\n",
    "loan_clean.info()"
   ]
  },
  {
   "cell_type": "markdown",
   "metadata": {},
   "source": [
    "Interestingly, the two columns that contain fewer entries, namely Credit Grade and Prosper Rating, complement one another. It can be seen below that they both never contain values for the same entry and only a few entries are missing both variables. "
   ]
  },
  {
   "cell_type": "code",
   "execution_count": 41,
   "metadata": {},
   "outputs": [
    {
     "name": "stdout",
     "output_type": "stream",
     "text": [
      "Both columns are null at the same time: 131\n",
      "Both columns are not null at the same time: 0\n"
     ]
    }
   ],
   "source": [
    "print('Both columns are null at the same time: {}'.format(sum(loan_clean['CreditGrade'].isna() & loan_clean['ProsperRating (Alpha)'].isna())))\n",
    "print('Both columns are not null at the same time: {}'.format(sum(loan_clean['CreditGrade'].notna() & loan_clean['ProsperRating (Alpha)'].notna())))"
   ]
  },
  {
   "cell_type": "markdown",
   "metadata": {},
   "source": [
    "Therefore we can join both columns into one, let's keep the name credit grade"
   ]
  },
  {
   "cell_type": "code",
   "execution_count": 42,
   "metadata": {},
   "outputs": [
    {
     "name": "stdout",
     "output_type": "stream",
     "text": [
      "<class 'pandas.core.frame.DataFrame'>\n",
      "Int64Index: 113066 entries, 0 to 113936\n",
      "Data columns (total 15 columns):\n",
      "CreditGrade                 112935 non-null object\n",
      "Term                        113066 non-null int64\n",
      "LoanStatus                  113066 non-null object\n",
      "BorrowerAPR                 113041 non-null float64\n",
      "LenderYield                 113066 non-null float64\n",
      "EmploymentStatus            110811 non-null object\n",
      "EmploymentStatusDuration    105441 non-null float64\n",
      "IsBorrowerHomeowner         113066 non-null bool\n",
      "CreditScoreRangeUpper       112475 non-null float64\n",
      "DelinquenciesLast7Years     112076 non-null float64\n",
      "RevolvingCreditBalance      105462 non-null float64\n",
      "AvailableBankcardCredit     105522 non-null float64\n",
      "DebtToIncomeRatio           104594 non-null float64\n",
      "IncomeRange                 113066 non-null object\n",
      "LoanOriginalAmount          113066 non-null int64\n",
      "dtypes: bool(1), float64(8), int64(2), object(4)\n",
      "memory usage: 13.0+ MB\n",
      "None\n"
     ]
    }
   ],
   "source": [
    "loan_clean['CreditGrade'].where(loan_clean['CreditGrade'].notna(),loan_clean['ProsperRating (Alpha)'],inplace=True)\n",
    "loan_clean.drop('ProsperRating (Alpha)',axis=1,inplace=True)\n",
    "print(loan_clean.info())"
   ]
  },
  {
   "cell_type": "markdown",
   "metadata": {},
   "source": [
    "Both Ordinal and categorical/nominal data could be casted as CategoricalDType. In this way it's clearer which variables are categorical and which ones are not."
   ]
  },
  {
   "cell_type": "code",
   "execution_count": 43,
   "metadata": {},
   "outputs": [
    {
     "name": "stdout",
     "output_type": "stream",
     "text": [
      "<class 'pandas.core.frame.DataFrame'>\n",
      "Int64Index: 113066 entries, 0 to 113936\n",
      "Data columns (total 15 columns):\n",
      "CreditGrade                 112935 non-null category\n",
      "Term                        113066 non-null category\n",
      "LoanStatus                  113066 non-null object\n",
      "BorrowerAPR                 113041 non-null float64\n",
      "LenderYield                 113066 non-null float64\n",
      "EmploymentStatus            110811 non-null object\n",
      "EmploymentStatusDuration    105441 non-null float64\n",
      "IsBorrowerHomeowner         113066 non-null bool\n",
      "CreditScoreRangeUpper       112475 non-null float64\n",
      "DelinquenciesLast7Years     112076 non-null float64\n",
      "RevolvingCreditBalance      105462 non-null float64\n",
      "AvailableBankcardCredit     105522 non-null float64\n",
      "DebtToIncomeRatio           104594 non-null float64\n",
      "IncomeRange                 113066 non-null category\n",
      "LoanOriginalAmount          113066 non-null int64\n",
      "dtypes: bool(1), category(3), float64(8), int64(1), object(2)\n",
      "memory usage: 10.8+ MB\n"
     ]
    }
   ],
   "source": [
    "loan_clean.CreditGrade.value_counts()\n",
    "ordinal_var_dict = {'CreditGrade': ['NC','HR','E','D','C','B','A','AA'],\n",
    "                    'Term':[12,36,60],\n",
    "                    'IncomeRange':['Not displayed','Not employed','$0','$1-24,999','$25,000-49,999','$50,000-74,999','$75,000-99,999','$100,000+']}\n",
    "\n",
    "for var in ordinal_var_dict:\n",
    "    pd_ver = pd.__version__.split(\".\")\n",
    "    if (int(pd_ver[0]) > 0) or (int(pd_ver[1]) >= 21): # v0.21 or later\n",
    "        ordered_var = pd.api.types.CategoricalDtype(ordered = True,\n",
    "                                                    categories = ordinal_var_dict[var])\n",
    "        loan_clean[var] = loan_clean[var].astype(ordered_var)\n",
    "    else: # pre-v0.21\n",
    "        loan_clean[var] = loan_clean[var].astype('category', ordered = True,\n",
    "                                             categories = ordinal_var_dict[var])\n",
    "loan_clean.info()"
   ]
  },
  {
   "cell_type": "markdown",
   "metadata": {},
   "source": [
    "It seems that there are some missing entries for some columns. Let's inspect *AvailableBankcardCredit* for example. This will help us determine whether those entries are candidates to remove or on the other hand they follow an specified pattern. Let's display a slice of them"
   ]
  },
  {
   "cell_type": "code",
   "execution_count": 44,
   "metadata": {},
   "outputs": [
    {
     "data": {
      "text/html": [
       "<div>\n",
       "<style scoped>\n",
       "    .dataframe tbody tr th:only-of-type {\n",
       "        vertical-align: middle;\n",
       "    }\n",
       "\n",
       "    .dataframe tbody tr th {\n",
       "        vertical-align: top;\n",
       "    }\n",
       "\n",
       "    .dataframe thead th {\n",
       "        text-align: right;\n",
       "    }\n",
       "</style>\n",
       "<table border=\"1\" class=\"dataframe\">\n",
       "  <thead>\n",
       "    <tr style=\"text-align: right;\">\n",
       "      <th></th>\n",
       "      <th>CreditGrade</th>\n",
       "      <th>Term</th>\n",
       "      <th>LoanStatus</th>\n",
       "      <th>BorrowerAPR</th>\n",
       "      <th>LenderYield</th>\n",
       "      <th>EmploymentStatus</th>\n",
       "      <th>EmploymentStatusDuration</th>\n",
       "      <th>IsBorrowerHomeowner</th>\n",
       "      <th>CreditScoreRangeUpper</th>\n",
       "      <th>DelinquenciesLast7Years</th>\n",
       "      <th>RevolvingCreditBalance</th>\n",
       "      <th>AvailableBankcardCredit</th>\n",
       "      <th>DebtToIncomeRatio</th>\n",
       "      <th>IncomeRange</th>\n",
       "      <th>LoanOriginalAmount</th>\n",
       "    </tr>\n",
       "  </thead>\n",
       "  <tbody>\n",
       "    <tr>\n",
       "      <th>79984</th>\n",
       "      <td>A</td>\n",
       "      <td>36</td>\n",
       "      <td>Completed</td>\n",
       "      <td>0.10642</td>\n",
       "      <td>0.0945</td>\n",
       "      <td>Not available</td>\n",
       "      <td>NaN</td>\n",
       "      <td>True</td>\n",
       "      <td>739.0</td>\n",
       "      <td>0.0</td>\n",
       "      <td>NaN</td>\n",
       "      <td>NaN</td>\n",
       "      <td>0.26000</td>\n",
       "      <td>Not displayed</td>\n",
       "      <td>5000</td>\n",
       "    </tr>\n",
       "    <tr>\n",
       "      <th>33533</th>\n",
       "      <td>A</td>\n",
       "      <td>36</td>\n",
       "      <td>Completed</td>\n",
       "      <td>0.11749</td>\n",
       "      <td>0.0950</td>\n",
       "      <td>Not available</td>\n",
       "      <td>NaN</td>\n",
       "      <td>True</td>\n",
       "      <td>739.0</td>\n",
       "      <td>0.0</td>\n",
       "      <td>NaN</td>\n",
       "      <td>NaN</td>\n",
       "      <td>0.13000</td>\n",
       "      <td>Not displayed</td>\n",
       "      <td>1000</td>\n",
       "    </tr>\n",
       "    <tr>\n",
       "      <th>48366</th>\n",
       "      <td>B</td>\n",
       "      <td>36</td>\n",
       "      <td>Completed</td>\n",
       "      <td>0.09678</td>\n",
       "      <td>0.0745</td>\n",
       "      <td>Not available</td>\n",
       "      <td>NaN</td>\n",
       "      <td>False</td>\n",
       "      <td>719.0</td>\n",
       "      <td>0.0</td>\n",
       "      <td>NaN</td>\n",
       "      <td>NaN</td>\n",
       "      <td>0.06000</td>\n",
       "      <td>Not displayed</td>\n",
       "      <td>1000</td>\n",
       "    </tr>\n",
       "    <tr>\n",
       "      <th>44125</th>\n",
       "      <td>AA</td>\n",
       "      <td>36</td>\n",
       "      <td>Completed</td>\n",
       "      <td>0.10391</td>\n",
       "      <td>0.0870</td>\n",
       "      <td>NaN</td>\n",
       "      <td>NaN</td>\n",
       "      <td>True</td>\n",
       "      <td>779.0</td>\n",
       "      <td>NaN</td>\n",
       "      <td>NaN</td>\n",
       "      <td>NaN</td>\n",
       "      <td>0.05000</td>\n",
       "      <td>Not displayed</td>\n",
       "      <td>10000</td>\n",
       "    </tr>\n",
       "    <tr>\n",
       "      <th>84156</th>\n",
       "      <td>D</td>\n",
       "      <td>36</td>\n",
       "      <td>Completed</td>\n",
       "      <td>0.15565</td>\n",
       "      <td>0.1400</td>\n",
       "      <td>NaN</td>\n",
       "      <td>NaN</td>\n",
       "      <td>False</td>\n",
       "      <td>639.0</td>\n",
       "      <td>NaN</td>\n",
       "      <td>NaN</td>\n",
       "      <td>NaN</td>\n",
       "      <td>0.01000</td>\n",
       "      <td>Not displayed</td>\n",
       "      <td>1675</td>\n",
       "    </tr>\n",
       "    <tr>\n",
       "      <th>45509</th>\n",
       "      <td>E</td>\n",
       "      <td>36</td>\n",
       "      <td>Defaulted</td>\n",
       "      <td>0.23196</td>\n",
       "      <td>0.2095</td>\n",
       "      <td>Not available</td>\n",
       "      <td>NaN</td>\n",
       "      <td>False</td>\n",
       "      <td>559.0</td>\n",
       "      <td>4.0</td>\n",
       "      <td>NaN</td>\n",
       "      <td>NaN</td>\n",
       "      <td>0.06000</td>\n",
       "      <td>Not displayed</td>\n",
       "      <td>2500</td>\n",
       "    </tr>\n",
       "    <tr>\n",
       "      <th>63873</th>\n",
       "      <td>A</td>\n",
       "      <td>36</td>\n",
       "      <td>Completed</td>\n",
       "      <td>0.10943</td>\n",
       "      <td>0.0950</td>\n",
       "      <td>Not available</td>\n",
       "      <td>NaN</td>\n",
       "      <td>False</td>\n",
       "      <td>739.0</td>\n",
       "      <td>0.0</td>\n",
       "      <td>NaN</td>\n",
       "      <td>NaN</td>\n",
       "      <td>0.13000</td>\n",
       "      <td>Not displayed</td>\n",
       "      <td>6001</td>\n",
       "    </tr>\n",
       "    <tr>\n",
       "      <th>26457</th>\n",
       "      <td>E</td>\n",
       "      <td>36</td>\n",
       "      <td>Completed</td>\n",
       "      <td>0.25295</td>\n",
       "      <td>0.2279</td>\n",
       "      <td>NaN</td>\n",
       "      <td>NaN</td>\n",
       "      <td>False</td>\n",
       "      <td>559.0</td>\n",
       "      <td>16.0</td>\n",
       "      <td>NaN</td>\n",
       "      <td>NaN</td>\n",
       "      <td>0.19000</td>\n",
       "      <td>Not displayed</td>\n",
       "      <td>5000</td>\n",
       "    </tr>\n",
       "    <tr>\n",
       "      <th>18485</th>\n",
       "      <td>D</td>\n",
       "      <td>36</td>\n",
       "      <td>Completed</td>\n",
       "      <td>0.10692</td>\n",
       "      <td>0.0875</td>\n",
       "      <td>NaN</td>\n",
       "      <td>NaN</td>\n",
       "      <td>False</td>\n",
       "      <td>NaN</td>\n",
       "      <td>NaN</td>\n",
       "      <td>NaN</td>\n",
       "      <td>NaN</td>\n",
       "      <td>0.50872</td>\n",
       "      <td>Not displayed</td>\n",
       "      <td>7000</td>\n",
       "    </tr>\n",
       "    <tr>\n",
       "      <th>102167</th>\n",
       "      <td>A</td>\n",
       "      <td>36</td>\n",
       "      <td>Completed</td>\n",
       "      <td>0.09688</td>\n",
       "      <td>0.0850</td>\n",
       "      <td>Not available</td>\n",
       "      <td>NaN</td>\n",
       "      <td>False</td>\n",
       "      <td>759.0</td>\n",
       "      <td>0.0</td>\n",
       "      <td>NaN</td>\n",
       "      <td>NaN</td>\n",
       "      <td>0.07000</td>\n",
       "      <td>Not displayed</td>\n",
       "      <td>5000</td>\n",
       "    </tr>\n",
       "    <tr>\n",
       "      <th>25330</th>\n",
       "      <td>AA</td>\n",
       "      <td>36</td>\n",
       "      <td>Completed</td>\n",
       "      <td>NaN</td>\n",
       "      <td>0.0552</td>\n",
       "      <td>NaN</td>\n",
       "      <td>NaN</td>\n",
       "      <td>False</td>\n",
       "      <td>NaN</td>\n",
       "      <td>NaN</td>\n",
       "      <td>NaN</td>\n",
       "      <td>NaN</td>\n",
       "      <td>0.07707</td>\n",
       "      <td>Not displayed</td>\n",
       "      <td>1500</td>\n",
       "    </tr>\n",
       "    <tr>\n",
       "      <th>40980</th>\n",
       "      <td>HR</td>\n",
       "      <td>36</td>\n",
       "      <td>Defaulted</td>\n",
       "      <td>0.27926</td>\n",
       "      <td>0.2550</td>\n",
       "      <td>Not available</td>\n",
       "      <td>NaN</td>\n",
       "      <td>False</td>\n",
       "      <td>519.0</td>\n",
       "      <td>0.0</td>\n",
       "      <td>NaN</td>\n",
       "      <td>NaN</td>\n",
       "      <td>0.05000</td>\n",
       "      <td>Not displayed</td>\n",
       "      <td>1000</td>\n",
       "    </tr>\n",
       "    <tr>\n",
       "      <th>82121</th>\n",
       "      <td>A</td>\n",
       "      <td>36</td>\n",
       "      <td>Completed</td>\n",
       "      <td>0.09688</td>\n",
       "      <td>0.0850</td>\n",
       "      <td>Not available</td>\n",
       "      <td>NaN</td>\n",
       "      <td>False</td>\n",
       "      <td>759.0</td>\n",
       "      <td>0.0</td>\n",
       "      <td>NaN</td>\n",
       "      <td>NaN</td>\n",
       "      <td>0.08000</td>\n",
       "      <td>Not displayed</td>\n",
       "      <td>7000</td>\n",
       "    </tr>\n",
       "    <tr>\n",
       "      <th>34498</th>\n",
       "      <td>AA</td>\n",
       "      <td>36</td>\n",
       "      <td>Completed</td>\n",
       "      <td>0.09286</td>\n",
       "      <td>0.0810</td>\n",
       "      <td>Not available</td>\n",
       "      <td>NaN</td>\n",
       "      <td>True</td>\n",
       "      <td>799.0</td>\n",
       "      <td>0.0</td>\n",
       "      <td>NaN</td>\n",
       "      <td>NaN</td>\n",
       "      <td>0.12000</td>\n",
       "      <td>Not displayed</td>\n",
       "      <td>3000</td>\n",
       "    </tr>\n",
       "    <tr>\n",
       "      <th>90741</th>\n",
       "      <td>C</td>\n",
       "      <td>36</td>\n",
       "      <td>Chargedoff</td>\n",
       "      <td>0.15613</td>\n",
       "      <td>0.1390</td>\n",
       "      <td>NaN</td>\n",
       "      <td>NaN</td>\n",
       "      <td>False</td>\n",
       "      <td>659.0</td>\n",
       "      <td>14.0</td>\n",
       "      <td>NaN</td>\n",
       "      <td>NaN</td>\n",
       "      <td>0.18000</td>\n",
       "      <td>Not displayed</td>\n",
       "      <td>3500</td>\n",
       "    </tr>\n",
       "    <tr>\n",
       "      <th>94464</th>\n",
       "      <td>E</td>\n",
       "      <td>36</td>\n",
       "      <td>Completed</td>\n",
       "      <td>0.24753</td>\n",
       "      <td>0.2250</td>\n",
       "      <td>Not available</td>\n",
       "      <td>NaN</td>\n",
       "      <td>True</td>\n",
       "      <td>559.0</td>\n",
       "      <td>11.0</td>\n",
       "      <td>NaN</td>\n",
       "      <td>NaN</td>\n",
       "      <td>0.06000</td>\n",
       "      <td>Not displayed</td>\n",
       "      <td>4500</td>\n",
       "    </tr>\n",
       "    <tr>\n",
       "      <th>71212</th>\n",
       "      <td>B</td>\n",
       "      <td>36</td>\n",
       "      <td>Defaulted</td>\n",
       "      <td>0.18726</td>\n",
       "      <td>0.1700</td>\n",
       "      <td>Not available</td>\n",
       "      <td>NaN</td>\n",
       "      <td>True</td>\n",
       "      <td>719.0</td>\n",
       "      <td>0.0</td>\n",
       "      <td>NaN</td>\n",
       "      <td>NaN</td>\n",
       "      <td>1.05000</td>\n",
       "      <td>Not displayed</td>\n",
       "      <td>10000</td>\n",
       "    </tr>\n",
       "    <tr>\n",
       "      <th>63162</th>\n",
       "      <td>HR</td>\n",
       "      <td>36</td>\n",
       "      <td>Defaulted</td>\n",
       "      <td>0.29525</td>\n",
       "      <td>0.2825</td>\n",
       "      <td>NaN</td>\n",
       "      <td>NaN</td>\n",
       "      <td>False</td>\n",
       "      <td>519.0</td>\n",
       "      <td>0.0</td>\n",
       "      <td>NaN</td>\n",
       "      <td>NaN</td>\n",
       "      <td>0.03000</td>\n",
       "      <td>Not displayed</td>\n",
       "      <td>7000</td>\n",
       "    </tr>\n",
       "    <tr>\n",
       "      <th>44485</th>\n",
       "      <td>HR</td>\n",
       "      <td>36</td>\n",
       "      <td>Chargedoff</td>\n",
       "      <td>0.30112</td>\n",
       "      <td>0.2850</td>\n",
       "      <td>Not available</td>\n",
       "      <td>NaN</td>\n",
       "      <td>False</td>\n",
       "      <td>539.0</td>\n",
       "      <td>0.0</td>\n",
       "      <td>NaN</td>\n",
       "      <td>NaN</td>\n",
       "      <td>0.20000</td>\n",
       "      <td>Not displayed</td>\n",
       "      <td>1750</td>\n",
       "    </tr>\n",
       "    <tr>\n",
       "      <th>56039</th>\n",
       "      <td>E</td>\n",
       "      <td>36</td>\n",
       "      <td>Defaulted</td>\n",
       "      <td>0.29726</td>\n",
       "      <td>0.2845</td>\n",
       "      <td>Not available</td>\n",
       "      <td>NaN</td>\n",
       "      <td>False</td>\n",
       "      <td>599.0</td>\n",
       "      <td>3.0</td>\n",
       "      <td>NaN</td>\n",
       "      <td>NaN</td>\n",
       "      <td>0.14000</td>\n",
       "      <td>Not displayed</td>\n",
       "      <td>3000</td>\n",
       "    </tr>\n",
       "  </tbody>\n",
       "</table>\n",
       "</div>"
      ],
      "text/plain": [
       "       CreditGrade Term  LoanStatus  BorrowerAPR  LenderYield  \\\n",
       "79984            A   36   Completed      0.10642       0.0945   \n",
       "33533            A   36   Completed      0.11749       0.0950   \n",
       "48366            B   36   Completed      0.09678       0.0745   \n",
       "44125           AA   36   Completed      0.10391       0.0870   \n",
       "84156            D   36   Completed      0.15565       0.1400   \n",
       "45509            E   36   Defaulted      0.23196       0.2095   \n",
       "63873            A   36   Completed      0.10943       0.0950   \n",
       "26457            E   36   Completed      0.25295       0.2279   \n",
       "18485            D   36   Completed      0.10692       0.0875   \n",
       "102167           A   36   Completed      0.09688       0.0850   \n",
       "25330           AA   36   Completed          NaN       0.0552   \n",
       "40980           HR   36   Defaulted      0.27926       0.2550   \n",
       "82121            A   36   Completed      0.09688       0.0850   \n",
       "34498           AA   36   Completed      0.09286       0.0810   \n",
       "90741            C   36  Chargedoff      0.15613       0.1390   \n",
       "94464            E   36   Completed      0.24753       0.2250   \n",
       "71212            B   36   Defaulted      0.18726       0.1700   \n",
       "63162           HR   36   Defaulted      0.29525       0.2825   \n",
       "44485           HR   36  Chargedoff      0.30112       0.2850   \n",
       "56039            E   36   Defaulted      0.29726       0.2845   \n",
       "\n",
       "       EmploymentStatus  EmploymentStatusDuration  IsBorrowerHomeowner  \\\n",
       "79984     Not available                       NaN                 True   \n",
       "33533     Not available                       NaN                 True   \n",
       "48366     Not available                       NaN                False   \n",
       "44125               NaN                       NaN                 True   \n",
       "84156               NaN                       NaN                False   \n",
       "45509     Not available                       NaN                False   \n",
       "63873     Not available                       NaN                False   \n",
       "26457               NaN                       NaN                False   \n",
       "18485               NaN                       NaN                False   \n",
       "102167    Not available                       NaN                False   \n",
       "25330               NaN                       NaN                False   \n",
       "40980     Not available                       NaN                False   \n",
       "82121     Not available                       NaN                False   \n",
       "34498     Not available                       NaN                 True   \n",
       "90741               NaN                       NaN                False   \n",
       "94464     Not available                       NaN                 True   \n",
       "71212     Not available                       NaN                 True   \n",
       "63162               NaN                       NaN                False   \n",
       "44485     Not available                       NaN                False   \n",
       "56039     Not available                       NaN                False   \n",
       "\n",
       "        CreditScoreRangeUpper  DelinquenciesLast7Years  \\\n",
       "79984                   739.0                      0.0   \n",
       "33533                   739.0                      0.0   \n",
       "48366                   719.0                      0.0   \n",
       "44125                   779.0                      NaN   \n",
       "84156                   639.0                      NaN   \n",
       "45509                   559.0                      4.0   \n",
       "63873                   739.0                      0.0   \n",
       "26457                   559.0                     16.0   \n",
       "18485                     NaN                      NaN   \n",
       "102167                  759.0                      0.0   \n",
       "25330                     NaN                      NaN   \n",
       "40980                   519.0                      0.0   \n",
       "82121                   759.0                      0.0   \n",
       "34498                   799.0                      0.0   \n",
       "90741                   659.0                     14.0   \n",
       "94464                   559.0                     11.0   \n",
       "71212                   719.0                      0.0   \n",
       "63162                   519.0                      0.0   \n",
       "44485                   539.0                      0.0   \n",
       "56039                   599.0                      3.0   \n",
       "\n",
       "        RevolvingCreditBalance  AvailableBankcardCredit  DebtToIncomeRatio  \\\n",
       "79984                      NaN                      NaN            0.26000   \n",
       "33533                      NaN                      NaN            0.13000   \n",
       "48366                      NaN                      NaN            0.06000   \n",
       "44125                      NaN                      NaN            0.05000   \n",
       "84156                      NaN                      NaN            0.01000   \n",
       "45509                      NaN                      NaN            0.06000   \n",
       "63873                      NaN                      NaN            0.13000   \n",
       "26457                      NaN                      NaN            0.19000   \n",
       "18485                      NaN                      NaN            0.50872   \n",
       "102167                     NaN                      NaN            0.07000   \n",
       "25330                      NaN                      NaN            0.07707   \n",
       "40980                      NaN                      NaN            0.05000   \n",
       "82121                      NaN                      NaN            0.08000   \n",
       "34498                      NaN                      NaN            0.12000   \n",
       "90741                      NaN                      NaN            0.18000   \n",
       "94464                      NaN                      NaN            0.06000   \n",
       "71212                      NaN                      NaN            1.05000   \n",
       "63162                      NaN                      NaN            0.03000   \n",
       "44485                      NaN                      NaN            0.20000   \n",
       "56039                      NaN                      NaN            0.14000   \n",
       "\n",
       "          IncomeRange  LoanOriginalAmount  \n",
       "79984   Not displayed                5000  \n",
       "33533   Not displayed                1000  \n",
       "48366   Not displayed                1000  \n",
       "44125   Not displayed               10000  \n",
       "84156   Not displayed                1675  \n",
       "45509   Not displayed                2500  \n",
       "63873   Not displayed                6001  \n",
       "26457   Not displayed                5000  \n",
       "18485   Not displayed                7000  \n",
       "102167  Not displayed                5000  \n",
       "25330   Not displayed                1500  \n",
       "40980   Not displayed                1000  \n",
       "82121   Not displayed                7000  \n",
       "34498   Not displayed                3000  \n",
       "90741   Not displayed                3500  \n",
       "94464   Not displayed                4500  \n",
       "71212   Not displayed               10000  \n",
       "63162   Not displayed                7000  \n",
       "44485   Not displayed                1750  \n",
       "56039   Not displayed                3000  "
      ]
     },
     "execution_count": 44,
     "metadata": {},
     "output_type": "execute_result"
    }
   ],
   "source": [
    " loan_clean[loan_clean.AvailableBankcardCredit.isna()].sample(20)"
   ]
  },
  {
   "cell_type": "code",
   "execution_count": 45,
   "metadata": {},
   "outputs": [
    {
     "data": {
      "text/plain": [
       "36    7544\n",
       "60       0\n",
       "12       0\n",
       "Name: Term, dtype: int64"
      ]
     },
     "execution_count": 45,
     "metadata": {},
     "output_type": "execute_result"
    }
   ],
   "source": [
    " loan_clean[loan_clean.AvailableBankcardCredit.isna()].Term.value_counts()"
   ]
  },
  {
   "cell_type": "markdown",
   "metadata": {},
   "source": [
    "It seems that those entries that contain missing values for bankcard credit also contain missing values for some other columns. Also, it seems that it can be safe to rename NaN for Not available in **EmploymentStatus** column. Also notice that all entries that do not contain information for AvailableBankcardCredit correspond to loans on 36-month term... This is perhaps something to be wary about when drawing conclusions. However, for this analysis and bearing in mind that there are many more entries for 36-month loans that for any of the other two categories, then let's remove these rows.\n",
    "Another thing to note is that CreditGrade already contains a NaN value which is NC\n"
   ]
  },
  {
   "cell_type": "code",
   "execution_count": 46,
   "metadata": {},
   "outputs": [
    {
     "name": "stdout",
     "output_type": "stream",
     "text": [
      "<class 'pandas.core.frame.DataFrame'>\n",
      "Int64Index: 105522 entries, 0 to 113936\n",
      "Data columns (total 15 columns):\n",
      "CreditGrade                 105522 non-null category\n",
      "Term                        105522 non-null category\n",
      "LoanStatus                  105522 non-null object\n",
      "BorrowerAPR                 105522 non-null float64\n",
      "LenderYield                 105522 non-null float64\n",
      "EmploymentStatus            105522 non-null object\n",
      "EmploymentStatusDuration    105439 non-null float64\n",
      "IsBorrowerHomeowner         105522 non-null bool\n",
      "CreditScoreRangeUpper       105522 non-null float64\n",
      "DelinquenciesLast7Years     105500 non-null float64\n",
      "RevolvingCreditBalance      105462 non-null float64\n",
      "AvailableBankcardCredit     105522 non-null float64\n",
      "DebtToIncomeRatio           97172 non-null float64\n",
      "IncomeRange                 105522 non-null category\n",
      "LoanOriginalAmount          105522 non-null int64\n",
      "dtypes: bool(1), category(3), float64(8), int64(1), object(2)\n",
      "memory usage: 10.1+ MB\n"
     ]
    }
   ],
   "source": [
    "loan_clean.EmploymentStatus.replace(np.nan,'Not available',inplace=True)\n",
    "loan_clean.CreditGrade.replace(np.nan,'NC',inplace=True)\n",
    "loan_clean.drop(loan_clean[loan_clean.AvailableBankcardCredit.isna()].index,axis=0,inplace=True)\n",
    "loan_clean.info()"
   ]
  },
  {
   "cell_type": "markdown",
   "metadata": {},
   "source": [
    "EmploymentStatusDuration, RevolvingCreditBalance, DeliquenciesLast7Years and DebtToIncomeRatio are likely to impact the CreditGrade... Since all entries have an associated CreditGrade let's fill the missing gaps with the average value for the creditgrade group"
   ]
  },
  {
   "cell_type": "code",
   "execution_count": 47,
   "metadata": {},
   "outputs": [
    {
     "name": "stdout",
     "output_type": "stream",
     "text": [
      "<class 'pandas.core.frame.DataFrame'>\n",
      "Int64Index: 105522 entries, 0 to 113936\n",
      "Data columns (total 15 columns):\n",
      "CreditGrade                 105522 non-null category\n",
      "Term                        105522 non-null category\n",
      "LoanStatus                  105522 non-null object\n",
      "BorrowerAPR                 105522 non-null float64\n",
      "LenderYield                 105522 non-null float64\n",
      "EmploymentStatus            105522 non-null object\n",
      "EmploymentStatusDuration    105522 non-null float64\n",
      "IsBorrowerHomeowner         105522 non-null bool\n",
      "CreditScoreRangeUpper       105522 non-null float64\n",
      "DelinquenciesLast7Years     105522 non-null float64\n",
      "RevolvingCreditBalance      105522 non-null float64\n",
      "AvailableBankcardCredit     105522 non-null float64\n",
      "DebtToIncomeRatio           105522 non-null float64\n",
      "IncomeRange                 105522 non-null category\n",
      "LoanOriginalAmount          105522 non-null int64\n",
      "dtypes: bool(1), category(3), float64(8), int64(1), object(2)\n",
      "memory usage: 15.1+ MB\n"
     ]
    }
   ],
   "source": [
    "colToFil = ['EmploymentStatusDuration', 'RevolvingCreditBalance', 'DelinquenciesLast7Years','DebtToIncomeRatio']\n",
    "for col in colToFil:\n",
    "    dummyValues = loan_clean.groupby('CreditGrade').mean().reset_index()[['CreditGrade',col]]\n",
    "    valuesOnGrade = loan_clean[loan_clean[col].isna()].merge(dummyValues,how='left',on='CreditGrade')['{}_y'.format(col)]\n",
    "    indexesToWrite = loan_clean[loan_clean[col].isna()].index\n",
    "    loan_clean.loc[indexesToWrite,col] = valuesOnGrade.values\n",
    "    loan_clean[loan_clean[col].isna()]\n",
    "loan_clean.info()"
   ]
  },
  {
   "cell_type": "markdown",
   "metadata": {},
   "source": [
    "Now, there are no more missing entries. Discrete values can therefore be converted to int"
   ]
  },
  {
   "cell_type": "code",
   "execution_count": 48,
   "metadata": {},
   "outputs": [
    {
     "name": "stdout",
     "output_type": "stream",
     "text": [
      "<class 'pandas.core.frame.DataFrame'>\n",
      "Int64Index: 105522 entries, 0 to 113936\n",
      "Data columns (total 15 columns):\n",
      "CreditGrade                 105522 non-null category\n",
      "Term                        105522 non-null category\n",
      "LoanStatus                  105522 non-null object\n",
      "BorrowerAPR                 105522 non-null float64\n",
      "LenderYield                 105522 non-null float64\n",
      "EmploymentStatus            105522 non-null object\n",
      "EmploymentStatusDuration    105522 non-null int64\n",
      "IsBorrowerHomeowner         105522 non-null bool\n",
      "CreditScoreRangeUpper       105522 non-null int64\n",
      "DelinquenciesLast7Years     105522 non-null int64\n",
      "RevolvingCreditBalance      105522 non-null int64\n",
      "AvailableBankcardCredit     105522 non-null int64\n",
      "DebtToIncomeRatio           105522 non-null float64\n",
      "IncomeRange                 105522 non-null category\n",
      "LoanOriginalAmount          105522 non-null int64\n",
      "dtypes: bool(1), category(3), float64(3), int64(6), object(2)\n",
      "memory usage: 15.1+ MB\n"
     ]
    }
   ],
   "source": [
    "loan_clean.EmploymentStatusDuration = loan_clean.EmploymentStatusDuration.astype('int64')\n",
    "loan_clean.CreditScoreRangeUpper = loan_clean.CreditScoreRangeUpper.astype('int64')\n",
    "loan_clean.DelinquenciesLast7Years = loan_clean.DelinquenciesLast7Years.astype('int64')\n",
    "loan_clean.RevolvingCreditBalance = loan_clean.RevolvingCreditBalance.astype('int64')\n",
    "loan_clean.AvailableBankcardCredit = loan_clean.AvailableBankcardCredit.astype('int64')\n",
    "loan_clean.LoanOriginalAmount = loan_clean.LoanOriginalAmount.astype('int64')\n",
    "loan_clean.info()"
   ]
  },
  {
   "cell_type": "markdown",
   "metadata": {},
   "source": [
    "Let's check for outliers now"
   ]
  },
  {
   "cell_type": "code",
   "execution_count": 49,
   "metadata": {},
   "outputs": [
    {
     "data": {
      "text/html": [
       "<div>\n",
       "<style scoped>\n",
       "    .dataframe tbody tr th:only-of-type {\n",
       "        vertical-align: middle;\n",
       "    }\n",
       "\n",
       "    .dataframe tbody tr th {\n",
       "        vertical-align: top;\n",
       "    }\n",
       "\n",
       "    .dataframe thead th {\n",
       "        text-align: right;\n",
       "    }\n",
       "</style>\n",
       "<table border=\"1\" class=\"dataframe\">\n",
       "  <thead>\n",
       "    <tr style=\"text-align: right;\">\n",
       "      <th></th>\n",
       "      <th>BorrowerAPR</th>\n",
       "      <th>LenderYield</th>\n",
       "      <th>EmploymentStatusDuration</th>\n",
       "      <th>CreditScoreRangeUpper</th>\n",
       "      <th>DelinquenciesLast7Years</th>\n",
       "      <th>RevolvingCreditBalance</th>\n",
       "      <th>AvailableBankcardCredit</th>\n",
       "      <th>DebtToIncomeRatio</th>\n",
       "      <th>LoanOriginalAmount</th>\n",
       "    </tr>\n",
       "  </thead>\n",
       "  <tbody>\n",
       "    <tr>\n",
       "      <th>count</th>\n",
       "      <td>105522.000000</td>\n",
       "      <td>105522.000000</td>\n",
       "      <td>105522.000000</td>\n",
       "      <td>105522.000000</td>\n",
       "      <td>105522.000000</td>\n",
       "      <td>1.055220e+05</td>\n",
       "      <td>105522.000000</td>\n",
       "      <td>105522.000000</td>\n",
       "      <td>105522.000000</td>\n",
       "    </tr>\n",
       "    <tr>\n",
       "      <th>mean</th>\n",
       "      <td>0.220380</td>\n",
       "      <td>0.183041</td>\n",
       "      <td>96.058831</td>\n",
       "      <td>710.200508</td>\n",
       "      <td>3.928792</td>\n",
       "      <td>1.759210e+04</td>\n",
       "      <td>11208.182028</td>\n",
       "      <td>0.276848</td>\n",
       "      <td>8543.270702</td>\n",
       "    </tr>\n",
       "    <tr>\n",
       "      <th>std</th>\n",
       "      <td>0.081034</td>\n",
       "      <td>0.075078</td>\n",
       "      <td>94.395073</td>\n",
       "      <td>56.659748</td>\n",
       "      <td>9.800208</td>\n",
       "      <td>3.293661e+04</td>\n",
       "      <td>19847.681185</td>\n",
       "      <td>0.505246</td>\n",
       "      <td>6257.927037</td>\n",
       "    </tr>\n",
       "    <tr>\n",
       "      <th>min</th>\n",
       "      <td>0.006530</td>\n",
       "      <td>-0.010000</td>\n",
       "      <td>0.000000</td>\n",
       "      <td>19.000000</td>\n",
       "      <td>0.000000</td>\n",
       "      <td>0.000000e+00</td>\n",
       "      <td>0.000000</td>\n",
       "      <td>0.000000</td>\n",
       "      <td>1000.000000</td>\n",
       "    </tr>\n",
       "    <tr>\n",
       "      <th>25%</th>\n",
       "      <td>0.157130</td>\n",
       "      <td>0.123500</td>\n",
       "      <td>26.000000</td>\n",
       "      <td>679.000000</td>\n",
       "      <td>0.000000</td>\n",
       "      <td>3.102000e+03</td>\n",
       "      <td>876.000000</td>\n",
       "      <td>0.150000</td>\n",
       "      <td>4000.000000</td>\n",
       "    </tr>\n",
       "    <tr>\n",
       "      <th>50%</th>\n",
       "      <td>0.211150</td>\n",
       "      <td>0.173000</td>\n",
       "      <td>67.000000</td>\n",
       "      <td>699.000000</td>\n",
       "      <td>0.000000</td>\n",
       "      <td>8.538000e+03</td>\n",
       "      <td>4090.000000</td>\n",
       "      <td>0.230000</td>\n",
       "      <td>7000.000000</td>\n",
       "    </tr>\n",
       "    <tr>\n",
       "      <th>75%</th>\n",
       "      <td>0.285740</td>\n",
       "      <td>0.241100</td>\n",
       "      <td>137.000000</td>\n",
       "      <td>739.000000</td>\n",
       "      <td>3.000000</td>\n",
       "      <td>1.951950e+04</td>\n",
       "      <td>13165.000000</td>\n",
       "      <td>0.310000</td>\n",
       "      <td>12000.000000</td>\n",
       "    </tr>\n",
       "    <tr>\n",
       "      <th>max</th>\n",
       "      <td>0.423950</td>\n",
       "      <td>0.340000</td>\n",
       "      <td>755.000000</td>\n",
       "      <td>899.000000</td>\n",
       "      <td>99.000000</td>\n",
       "      <td>1.435667e+06</td>\n",
       "      <td>646285.000000</td>\n",
       "      <td>10.010000</td>\n",
       "      <td>35000.000000</td>\n",
       "    </tr>\n",
       "  </tbody>\n",
       "</table>\n",
       "</div>"
      ],
      "text/plain": [
       "         BorrowerAPR    LenderYield  EmploymentStatusDuration  \\\n",
       "count  105522.000000  105522.000000             105522.000000   \n",
       "mean        0.220380       0.183041                 96.058831   \n",
       "std         0.081034       0.075078                 94.395073   \n",
       "min         0.006530      -0.010000                  0.000000   \n",
       "25%         0.157130       0.123500                 26.000000   \n",
       "50%         0.211150       0.173000                 67.000000   \n",
       "75%         0.285740       0.241100                137.000000   \n",
       "max         0.423950       0.340000                755.000000   \n",
       "\n",
       "       CreditScoreRangeUpper  DelinquenciesLast7Years  RevolvingCreditBalance  \\\n",
       "count          105522.000000            105522.000000            1.055220e+05   \n",
       "mean              710.200508                 3.928792            1.759210e+04   \n",
       "std                56.659748                 9.800208            3.293661e+04   \n",
       "min                19.000000                 0.000000            0.000000e+00   \n",
       "25%               679.000000                 0.000000            3.102000e+03   \n",
       "50%               699.000000                 0.000000            8.538000e+03   \n",
       "75%               739.000000                 3.000000            1.951950e+04   \n",
       "max               899.000000                99.000000            1.435667e+06   \n",
       "\n",
       "       AvailableBankcardCredit  DebtToIncomeRatio  LoanOriginalAmount  \n",
       "count            105522.000000      105522.000000       105522.000000  \n",
       "mean              11208.182028           0.276848         8543.270702  \n",
       "std               19847.681185           0.505246         6257.927037  \n",
       "min                   0.000000           0.000000         1000.000000  \n",
       "25%                 876.000000           0.150000         4000.000000  \n",
       "50%                4090.000000           0.230000         7000.000000  \n",
       "75%               13165.000000           0.310000        12000.000000  \n",
       "max              646285.000000          10.010000        35000.000000  "
      ]
     },
     "execution_count": 49,
     "metadata": {},
     "output_type": "execute_result"
    }
   ],
   "source": [
    "loan_clean.describe()"
   ]
  },
  {
   "cell_type": "code",
   "execution_count": 50,
   "metadata": {},
   "outputs": [
    {
     "data": {
      "image/png": "[encoded data removed]",
      "text/plain": [
       "<Figure size 1008x1008 with 9 Axes>"
      ]
     },
     "metadata": {
      "needs_background": "light"
     },
     "output_type": "display_data"
    }
   ],
   "source": [
    "boxplotvarlist = ['BorrowerAPR','LenderYield','EmploymentStatusDuration','CreditScoreRangeUpper','DelinquenciesLast7Years','RevolvingCreditBalance','AvailableBankcardCredit','DebtToIncomeRatio','LoanOriginalAmount']\n",
    "plt.figure(figsize=[14,14]);\n",
    "for i,var in enumerate(boxplotvarlist):\n",
    "    plt.subplot(3,3,i+1)\n",
    "    sb.boxplot(data=loan_clean, x=var)"
   ]
  },
  {
   "cell_type": "markdown",
   "metadata": {},
   "source": [
    "From the graph above it can be seen that some variables are really skewed, others are more evenly distributed. There is one though that seems to contain wrong values. **CreditScoreRangeUpper** seems to have unsually low values that I need to inspect. The other variables look somehow normal to me, so I will not inspect them further to look for outliers"
   ]
  },
  {
   "cell_type": "code",
   "execution_count": 51,
   "metadata": {},
   "outputs": [
    {
     "data": {
      "text/html": [
       "<div>\n",
       "<style scoped>\n",
       "    .dataframe tbody tr th:only-of-type {\n",
       "        vertical-align: middle;\n",
       "    }\n",
       "\n",
       "    .dataframe tbody tr th {\n",
       "        vertical-align: top;\n",
       "    }\n",
       "\n",
       "    .dataframe thead th {\n",
       "        text-align: right;\n",
       "    }\n",
       "</style>\n",
       "<table border=\"1\" class=\"dataframe\">\n",
       "  <thead>\n",
       "    <tr style=\"text-align: right;\">\n",
       "      <th></th>\n",
       "      <th>CreditGrade</th>\n",
       "      <th>Term</th>\n",
       "      <th>LoanStatus</th>\n",
       "      <th>BorrowerAPR</th>\n",
       "      <th>LenderYield</th>\n",
       "      <th>EmploymentStatus</th>\n",
       "      <th>EmploymentStatusDuration</th>\n",
       "      <th>IsBorrowerHomeowner</th>\n",
       "      <th>CreditScoreRangeUpper</th>\n",
       "      <th>DelinquenciesLast7Years</th>\n",
       "      <th>RevolvingCreditBalance</th>\n",
       "      <th>AvailableBankcardCredit</th>\n",
       "      <th>DebtToIncomeRatio</th>\n",
       "      <th>IncomeRange</th>\n",
       "      <th>LoanOriginalAmount</th>\n",
       "    </tr>\n",
       "  </thead>\n",
       "  <tbody>\n",
       "    <tr>\n",
       "      <th>794</th>\n",
       "      <td>NC</td>\n",
       "      <td>36</td>\n",
       "      <td>Completed</td>\n",
       "      <td>0.29776</td>\n",
       "      <td>0.285</td>\n",
       "      <td>Not available</td>\n",
       "      <td>74</td>\n",
       "      <td>False</td>\n",
       "      <td>19</td>\n",
       "      <td>2</td>\n",
       "      <td>12039</td>\n",
       "      <td>0</td>\n",
       "      <td>0.25</td>\n",
       "      <td>Not displayed</td>\n",
       "      <td>4000</td>\n",
       "    </tr>\n",
       "    <tr>\n",
       "      <th>109468</th>\n",
       "      <td>NC</td>\n",
       "      <td>36</td>\n",
       "      <td>Completed</td>\n",
       "      <td>0.12700</td>\n",
       "      <td>0.105</td>\n",
       "      <td>Not available</td>\n",
       "      <td>74</td>\n",
       "      <td>False</td>\n",
       "      <td>19</td>\n",
       "      <td>2</td>\n",
       "      <td>12039</td>\n",
       "      <td>0</td>\n",
       "      <td>0.25</td>\n",
       "      <td>Not displayed</td>\n",
       "      <td>2550</td>\n",
       "    </tr>\n",
       "  </tbody>\n",
       "</table>\n",
       "</div>"
      ],
      "text/plain": [
       "       CreditGrade Term LoanStatus  BorrowerAPR  LenderYield EmploymentStatus  \\\n",
       "794             NC   36  Completed      0.29776        0.285    Not available   \n",
       "109468          NC   36  Completed      0.12700        0.105    Not available   \n",
       "\n",
       "        EmploymentStatusDuration  IsBorrowerHomeowner  CreditScoreRangeUpper  \\\n",
       "794                           74                False                     19   \n",
       "109468                        74                False                     19   \n",
       "\n",
       "        DelinquenciesLast7Years  RevolvingCreditBalance  \\\n",
       "794                           2                   12039   \n",
       "109468                        2                   12039   \n",
       "\n",
       "        AvailableBankcardCredit  DebtToIncomeRatio    IncomeRange  \\\n",
       "794                           0               0.25  Not displayed   \n",
       "109468                        0               0.25  Not displayed   \n",
       "\n",
       "        LoanOriginalAmount  \n",
       "794                   4000  \n",
       "109468                2550  "
      ]
     },
     "execution_count": 51,
     "metadata": {},
     "output_type": "execute_result"
    }
   ],
   "source": [
    "loan_clean[loan_clean.CreditScoreRangeUpper < 250]"
   ]
  },
  {
   "cell_type": "markdown",
   "metadata": {},
   "source": [
    "This inspection shows that most parameters have been filled in with mean values as the originals were probably missing. The fact that CreditScoreRangeUpper contains doggy values suggests that perhaps the whole entry is not reliable. Let's remove these two entries from the cleaned dataset"
   ]
  },
  {
   "cell_type": "code",
   "execution_count": 52,
   "metadata": {},
   "outputs": [
    {
     "data": {
      "image/png": "[encoded data removed]",
      "text/plain": [
       "<Figure size 432x288 with 1 Axes>"
      ]
     },
     "metadata": {
      "needs_background": "light"
     },
     "output_type": "display_data"
    }
   ],
   "source": [
    "loan_clean.drop(loan_clean[loan_clean.CreditScoreRangeUpper < 250].index,axis=0,inplace=True)\n",
    "sb.boxplot(data=loan_clean, x='CreditScoreRangeUpper');"
   ]
  },
  {
   "cell_type": "markdown",
   "metadata": {},
   "source": [
    "Let's see what happens with non-numerical variables"
   ]
  },
  {
   "cell_type": "code",
   "execution_count": 53,
   "metadata": {},
   "outputs": [
    {
     "data": {
      "text/html": [
       "<div>\n",
       "<style scoped>\n",
       "    .dataframe tbody tr th:only-of-type {\n",
       "        vertical-align: middle;\n",
       "    }\n",
       "\n",
       "    .dataframe tbody tr th {\n",
       "        vertical-align: top;\n",
       "    }\n",
       "\n",
       "    .dataframe thead th {\n",
       "        text-align: right;\n",
       "    }\n",
       "</style>\n",
       "<table border=\"1\" class=\"dataframe\">\n",
       "  <thead>\n",
       "    <tr style=\"text-align: right;\">\n",
       "      <th></th>\n",
       "      <th>CreditGrade</th>\n",
       "      <th>Term</th>\n",
       "      <th>LoanStatus</th>\n",
       "      <th>EmploymentStatus</th>\n",
       "      <th>IsBorrowerHomeowner</th>\n",
       "      <th>IncomeRange</th>\n",
       "    </tr>\n",
       "  </thead>\n",
       "  <tbody>\n",
       "    <tr>\n",
       "      <th>count</th>\n",
       "      <td>105520</td>\n",
       "      <td>105520</td>\n",
       "      <td>105520</td>\n",
       "      <td>105520</td>\n",
       "      <td>105520</td>\n",
       "      <td>105520</td>\n",
       "    </tr>\n",
       "    <tr>\n",
       "      <th>unique</th>\n",
       "      <td>8</td>\n",
       "      <td>3</td>\n",
       "      <td>12</td>\n",
       "      <td>8</td>\n",
       "      <td>2</td>\n",
       "      <td>8</td>\n",
       "    </tr>\n",
       "    <tr>\n",
       "      <th>top</th>\n",
       "      <td>C</td>\n",
       "      <td>36</td>\n",
       "      <td>Current</td>\n",
       "      <td>Employed</td>\n",
       "      <td>True</td>\n",
       "      <td>$25,000-49,999</td>\n",
       "    </tr>\n",
       "    <tr>\n",
       "      <th>freq</th>\n",
       "      <td>22642</td>\n",
       "      <td>79678</td>\n",
       "      <td>55730</td>\n",
       "      <td>66598</td>\n",
       "      <td>54523</td>\n",
       "      <td>31940</td>\n",
       "    </tr>\n",
       "  </tbody>\n",
       "</table>\n",
       "</div>"
      ],
      "text/plain": [
       "       CreditGrade    Term LoanStatus EmploymentStatus IsBorrowerHomeowner  \\\n",
       "count       105520  105520     105520           105520              105520   \n",
       "unique           8       3         12                8                   2   \n",
       "top              C      36    Current         Employed                True   \n",
       "freq         22642   79678      55730            66598               54523   \n",
       "\n",
       "           IncomeRange  \n",
       "count           105520  \n",
       "unique               8  \n",
       "top     $25,000-49,999  \n",
       "freq             31940  "
      ]
     },
     "execution_count": 53,
     "metadata": {},
     "output_type": "execute_result"
    }
   ],
   "source": [
    "loan_clean.describe(exclude = np.number)"
   ]
  },
  {
   "cell_type": "code",
   "execution_count": 54,
   "metadata": {},
   "outputs": [
    {
     "data": {
      "text/plain": [
       "(105520, 15)"
      ]
     },
     "execution_count": 54,
     "metadata": {},
     "output_type": "execute_result"
    }
   ],
   "source": [
    "loan_clean.shape"
   ]
  },
  {
   "cell_type": "markdown",
   "metadata": {},
   "source": [
    "There is nothing relevante on this front...\n",
    "**Data wrangling has been completed** and now we have a clean data set to work with. In this data set there is a good mix of all data types seen throughout the course. As described before there are discrete and continuous values as well as ordinal and categorical data."
   ]
  },
  {
   "cell_type": "markdown",
   "metadata": {},
   "source": [
    "### What is the structure of your dataset?\n",
    "\n",
    "> The cleaned data set contains 105,520 loans with 16 features for each loan. The features are a mix of numerical values, both continuous and discrete as well as categorical and ordinal variables.\n",
    "\n",
    "### What is/are the main feature(s) of interest in your dataset?\n",
    "\n",
    "> From a lender's point of view, the tricky bit is to determine the probability of default for a given loan as well as the APR to apply. Therefore the dependent variables in this case will be **BorrowerAPR** and **LoanStatus**. The other features I hope will be useful to estimate and characterize the former variables.\n",
    "\n",
    "### What features in the dataset do you think will help support your investigation into your feature(s) of interest?\n",
    "\n",
    "> As said before, any other feature than BorrowerAPR and LoanStatus will help support the analysis presented in this document"
   ]
  },
  {
   "cell_type": "markdown",
   "metadata": {},
   "source": [
    "## Univariate Exploration\n",
    "\n",
    "> Let's start with dependent variables. In this case BorrowerAPR. Let's analyse the variable on its own first before comparing it with others"
   ]
  },
  {
   "cell_type": "code",
   "execution_count": 55,
   "metadata": {},
   "outputs": [
    {
     "data": {
      "text/plain": [
       "count    105520.000000\n",
       "mean          0.220380\n",
       "std           0.081034\n",
       "min           0.006530\n",
       "25%           0.157130\n",
       "50%           0.211150\n",
       "75%           0.285740\n",
       "max           0.423950\n",
       "Name: BorrowerAPR, dtype: float64"
      ]
     },
     "execution_count": 55,
     "metadata": {},
     "output_type": "execute_result"
    }
   ],
   "source": [
    "loan_clean.BorrowerAPR.describe()"
   ]
  },
  {
   "cell_type": "code",
   "execution_count": 56,
   "metadata": {},
   "outputs": [
    {
     "data": {
      "image/png": "[encoded data removed]",
      "text/plain": [
       "<Figure size 432x288 with 1 Axes>"
      ]
     },
     "metadata": {
      "needs_background": "light"
     },
     "output_type": "display_data"
    }
   ],
   "source": [
    "binsize = 0.01\n",
    "binedges = np.arange(0,0.43+binsize,binsize)\n",
    "plt.hist(loan_clean['BorrowerAPR'],bins=binedges);\n",
    "plt.xticks(np.arange(0,0.45,0.05));\n",
    "plt.title('Borrower APR histogram');\n",
    "plt.xlabel('APR (%)');\n",
    "plt.ylabel('Frequency');"
   ]
  },
  {
   "cell_type": "markdown",
   "metadata": {},
   "source": [
    "The histogram above shows a somewhat right skewed distribution with a suprising spike at around 0.35 - 0.36 % interest. Let's inspect the data frame to check if we can see any pattern"
   ]
  },
  {
   "cell_type": "code",
   "execution_count": 57,
   "metadata": {},
   "outputs": [
    {
     "data": {
      "text/plain": [
       "HR    5284\n",
       "E     2264\n",
       "D       64\n",
       "C       32\n",
       "A        4\n",
       "B        2\n",
       "NC       2\n",
       "AA       0\n",
       "Name: CreditGrade, dtype: int64"
      ]
     },
     "execution_count": 57,
     "metadata": {},
     "output_type": "execute_result"
    }
   ],
   "source": [
    "loan_clean[(loan_clean['BorrowerAPR'] >= 0.35) & (loan_clean['BorrowerAPR'] < 0.36)].CreditGrade.value_counts()"
   ]
  },
  {
   "cell_type": "markdown",
   "metadata": {},
   "source": [
    "Based on the ratings above, it seems that the algorithm that calculates the APR seems to be giving an interest rate of around 0.35 for all those customers with bad credit ratings.\n",
    "\n",
    "Let's move now to analyze LoanStatus dependent variable."
   ]
  },
  {
   "cell_type": "code",
   "execution_count": 58,
   "metadata": {},
   "outputs": [
    {
     "data": {
      "image/png": "[encoded data removed]",
      "text/plain": [
       "<Figure size 432x288 with 1 Axes>"
      ]
     },
     "metadata": {
      "needs_background": "light"
     },
     "output_type": "display_data"
    }
   ],
   "source": [
    "basecolor = sb.color_palette()[0]\n",
    "nameorder = loan_clean.LoanStatus.value_counts().index\n",
    "namevalue = loan_clean.LoanStatus.value_counts().values\n",
    "sb.countplot(data=loan_clean,y='LoanStatus',color=basecolor,order=nameorder);\n",
    "sb.despine()\n",
    "for i,value in enumerate(namevalue):\n",
    "    plt.text(value,i,value)"
   ]
  },
  {
   "cell_type": "markdown",
   "metadata": {},
   "source": [
    "It seems that *Past Due (...)* does not give much information as numbers are relatively low compared to other categories. In principle all Past Due subcategories refer to the fact that payment is late. If this category was to be analysed on its own, perhaps it wouldn't make much sense to join all of them. However, since this is not the case and all of them suggest that the borrower is late on the payment, let's join all of them into one category. In this way the dataframe will be cleaner"
   ]
  },
  {
   "cell_type": "code",
   "execution_count": 59,
   "metadata": {},
   "outputs": [
    {
     "data": {
      "text/plain": [
       "Current                   55730\n",
       "Completed                 33585\n",
       "Chargedoff                10650\n",
       "Defaulted                  3294\n",
       "Past Due (1-15 days)        800\n",
       "Past Due (31-60 days)       361\n",
       "Past Due (61-90 days)       311\n",
       "Past Due (91-120 days)      304\n",
       "Past Due (16-30 days)       265\n",
       "FinalPaymentInProgress      203\n",
       "Past Due (>120 days)         16\n",
       "Cancelled                     1\n",
       "Name: LoanStatus, dtype: int64"
      ]
     },
     "execution_count": 59,
     "metadata": {},
     "output_type": "execute_result"
    }
   ],
   "source": [
    "loan_clean.LoanStatus.value_counts()"
   ]
  },
  {
   "cell_type": "code",
   "execution_count": 60,
   "metadata": {},
   "outputs": [
    {
     "data": {
      "image/png": "[encoded data removed]",
      "text/plain": [
       "<Figure size 432x288 with 1 Axes>"
      ]
     },
     "metadata": {
      "needs_background": "light"
     },
     "output_type": "display_data"
    }
   ],
   "source": [
    "loan_clean.LoanStatus.replace(r'Past Due .+','Past Due',regex=True,inplace=True)\n",
    "nameorder = loan_clean.LoanStatus.value_counts().index\n",
    "namevalue = loan_clean.LoanStatus.value_counts().values\n",
    "sb.countplot(data=loan_clean,y='LoanStatus',color=basecolor,order=nameorder);\n",
    "sb.despine()\n",
    "for i,value in enumerate(namevalue):\n",
    "    plt.text(value+1000,i,value)"
   ]
  },
  {
   "cell_type": "markdown",
   "metadata": {},
   "source": [
    "Let's analyse now the independent variables, starting with the categorical and ordinal ones."
   ]
  },
  {
   "cell_type": "code",
   "execution_count": 61,
   "metadata": {},
   "outputs": [
    {
     "data": {
      "image/png": "[encoded data removed]",
      "text/plain": [
       "<Figure size 432x288 with 1 Axes>"
      ]
     },
     "metadata": {
      "needs_background": "light"
     },
     "output_type": "display_data"
    }
   ],
   "source": [
    "sb.countplot(data=loan_clean,x='Term',color=basecolor);"
   ]
  },
  {
   "cell_type": "markdown",
   "metadata": {},
   "source": [
    "It can be seen above that 12-month loans are very unfrequent. Also, loans on 36 months are four times more frequent than those of 60. In order to simply the analysis let's keep only those loans with length 36 months as they seem to make the bulk of the analysis."
   ]
  },
  {
   "cell_type": "code",
   "execution_count": 62,
   "metadata": {},
   "outputs": [
    {
     "data": {
      "text/plain": [
       "Index(['CreditGrade', 'LoanStatus', 'BorrowerAPR', 'LenderYield',\n",
       "       'EmploymentStatus', 'EmploymentStatusDuration', 'IsBorrowerHomeowner',\n",
       "       'CreditScoreRangeUpper', 'DelinquenciesLast7Years',\n",
       "       'RevolvingCreditBalance', 'AvailableBankcardCredit',\n",
       "       'DebtToIncomeRatio', 'IncomeRange', 'LoanOriginalAmount'],\n",
       "      dtype='object')"
      ]
     },
     "execution_count": 62,
     "metadata": {},
     "output_type": "execute_result"
    }
   ],
   "source": [
    "loan_clean.drop(loan_clean[loan_clean['Term'].isin([12,60])].index,axis=0,inplace=True)\n",
    "loan_clean.drop('Term',axis=1,inplace=True)\n",
    "loan_clean.columns"
   ]
  },
  {
   "cell_type": "code",
   "execution_count": 63,
   "metadata": {},
   "outputs": [
    {
     "data": {
      "text/plain": [
       "<matplotlib.axes._subplots.AxesSubplot at 0x19a0f780>"
      ]
     },
     "execution_count": 63,
     "metadata": {},
     "output_type": "execute_result"
    },
    {
     "data": {
      "image/png": "[encoded data removed]",
      "text/plain": [
       "<Figure size 432x288 with 1 Axes>"
      ]
     },
     "metadata": {
      "needs_background": "light"
     },
     "output_type": "display_data"
    }
   ],
   "source": [
    "basecolor = sb.color_palette()[0]\n",
    "sb.countplot(data=loan_clean, x='IsBorrowerHomeowner',color=basecolor)"
   ]
  },
  {
   "cell_type": "markdown",
   "metadata": {},
   "source": [
    "The plot above clearly states that there number of loans is equally given to homeowners and no homeowners"
   ]
  },
  {
   "cell_type": "code",
   "execution_count": 64,
   "metadata": {},
   "outputs": [
    {
     "data": {
      "image/png": "[encoded data removed]",
      "text/plain": [
       "<Figure size 432x288 with 1 Axes>"
      ]
     },
     "metadata": {
      "needs_background": "light"
     },
     "output_type": "display_data"
    }
   ],
   "source": [
    "nameorder = loan_clean.EmploymentStatus.value_counts().index\n",
    "namevalue = loan_clean.EmploymentStatus.value_counts().values\n",
    "sb.countplot(data=loan_clean,y='EmploymentStatus',color=basecolor,order=nameorder);\n",
    "sb.despine()\n",
    "for i,value in enumerate(namevalue):\n",
    "    plt.text(value+1000,i,value)"
   ]
  },
  {
   "cell_type": "markdown",
   "metadata": {},
   "source": [
    "To me, the entry *Employed* results in information loss. The reason being that this category could be further broken down into either full-time or part-time. Also some categories have significantly smaller numbers than others. For example the number of retired people that got a loan in this data set is far smaller than people who are employed. Is this the true proportion of loans in reality or it's simply that retired people are not properly represented. Since I don't have a background on this topic and categories are misleading to me. Let's remove this variable altogether from the analysis. Also it makes sense to remove the numerical variable EmploymentStatusDuration since they are both related"
   ]
  },
  {
   "cell_type": "code",
   "execution_count": 65,
   "metadata": {},
   "outputs": [
    {
     "data": {
      "text/plain": [
       "Index(['CreditGrade', 'LoanStatus', 'BorrowerAPR', 'LenderYield',\n",
       "       'IsBorrowerHomeowner', 'CreditScoreRangeUpper',\n",
       "       'DelinquenciesLast7Years', 'RevolvingCreditBalance',\n",
       "       'AvailableBankcardCredit', 'DebtToIncomeRatio', 'IncomeRange',\n",
       "       'LoanOriginalAmount'],\n",
       "      dtype='object')"
      ]
     },
     "execution_count": 65,
     "metadata": {},
     "output_type": "execute_result"
    }
   ],
   "source": [
    "loan_clean.drop(['EmploymentStatus','EmploymentStatusDuration'],axis=1,inplace=True)\n",
    "loan_clean.columns"
   ]
  },
  {
   "cell_type": "markdown",
   "metadata": {},
   "source": [
    "Let's proceed now with variable IncomeRange"
   ]
  },
  {
   "cell_type": "code",
   "execution_count": 66,
   "metadata": {
    "scrolled": true
   },
   "outputs": [
    {
     "data": {
      "image/png": "[encoded data removed]",
      "text/plain": [
       "<Figure size 432x288 with 1 Axes>"
      ]
     },
     "metadata": {
      "needs_background": "light"
     },
     "output_type": "display_data"
    }
   ],
   "source": [
    "sb.countplot(data=loan_clean,y='IncomeRange',color=basecolor);"
   ]
  },
  {
   "cell_type": "markdown",
   "metadata": {},
   "source": [
    "We can see above that most people getting loans have incomes between 25k and 75k dollars. There are very few loans given to Not Employed people. Also very few are given to people that do not earn anything. Let's remove these marginal categories to ease the analysis and plots. Results won't be affected since the bulk majority of data will still be present after the cleaning process"
   ]
  },
  {
   "cell_type": "code",
   "execution_count": 67,
   "metadata": {},
   "outputs": [
    {
     "data": {
      "image/png": "[encoded data removed]",
      "text/plain": [
       "<Figure size 432x288 with 1 Axes>"
      ]
     },
     "metadata": {
      "needs_background": "light"
     },
     "output_type": "display_data"
    }
   ],
   "source": [
    "loan_clean.drop(loan_clean[loan_clean['IncomeRange'].isin(['Not displayed','Not employed','$0'])].index, axis=0, inplace=True )\n",
    "# Rewrite IncomeRange category\n",
    "ordinal_var_dict = {'IncomeRange':['$1-24,999','$25,000-49,999','$50,000-74,999','$75,000-99,999','$100,000+']}\n",
    "for var in ordinal_var_dict:\n",
    "    pd_ver = pd.__version__.split(\".\")\n",
    "    if (int(pd_ver[0]) > 0) or (int(pd_ver[1]) >= 21): # v0.21 or later\n",
    "        ordered_var = pd.api.types.CategoricalDtype(ordered = True,\n",
    "                                                    categories = ordinal_var_dict[var])\n",
    "        loan_clean[var] = loan_clean[var].astype(ordered_var)\n",
    "    else: # pre-v0.21\n",
    "        loan_clean[var] = loan_clean[var].astype('category', ordered = True,\n",
    "                                             categories = ordinal_var_dict[var])\n",
    "        \n",
    "sb.countplot(data=loan_clean,y='IncomeRange',color=basecolor);"
   ]
  },
  {
   "cell_type": "markdown",
   "metadata": {},
   "source": [
    "Lastly, let's analyse the CreditGrade variable."
   ]
  },
  {
   "cell_type": "code",
   "execution_count": 68,
   "metadata": {},
   "outputs": [
    {
     "data": {
      "text/plain": [
       "<matplotlib.axes._subplots.AxesSubplot at 0x12944b70>"
      ]
     },
     "execution_count": 68,
     "metadata": {},
     "output_type": "execute_result"
    },
    {
     "data": {
      "image/png": "[encoded data removed]",
      "text/plain": [
       "<Figure size 432x288 with 1 Axes>"
      ]
     },
     "metadata": {
      "needs_background": "light"
     },
     "output_type": "display_data"
    }
   ],
   "source": [
    "sb.countplot(data=loan_clean,y='CreditGrade',color=basecolor)"
   ]
  },
  {
   "cell_type": "markdown",
   "metadata": {},
   "source": [
    "Again, it seems that NC does not add any value to the analysis. So let's remove it and make the data frame cleaner"
   ]
  },
  {
   "cell_type": "code",
   "execution_count": 69,
   "metadata": {},
   "outputs": [
    {
     "data": {
      "image/png": "[encoded data removed]",
      "text/plain": [
       "<Figure size 432x288 with 1 Axes>"
      ]
     },
     "metadata": {
      "needs_background": "light"
     },
     "output_type": "display_data"
    }
   ],
   "source": [
    "loan_clean.drop(loan_clean[loan_clean['CreditGrade'] == 'NC'].index, axis=0, inplace=True )\n",
    "# Rewrite IncomeRange category\n",
    "ordinal_var_dict = {'CreditGrade':['HR','E','D','C','B','A','AA']}\n",
    "for var in ordinal_var_dict:\n",
    "    pd_ver = pd.__version__.split(\".\")\n",
    "    if (int(pd_ver[0]) > 0) or (int(pd_ver[1]) >= 21): # v0.21 or later\n",
    "        ordered_var = pd.api.types.CategoricalDtype(ordered = True,\n",
    "                                                    categories = ordinal_var_dict[var])\n",
    "        loan_clean[var] = loan_clean[var].astype(ordered_var)\n",
    "    else: # pre-v0.21\n",
    "        loan_clean[var] = loan_clean[var].astype('category', ordered = True,\n",
    "                                             categories = ordinal_var_dict[var])\n",
    "        \n",
    "sb.countplot(data=loan_clean,y='CreditGrade',color=basecolor);"
   ]
  },
  {
   "cell_type": "markdown",
   "metadata": {},
   "source": [
    "Let's now analyse the numerical independent variables starting with CreditScoreRangeUpper"
   ]
  },
  {
   "cell_type": "code",
   "execution_count": 70,
   "metadata": {},
   "outputs": [
    {
     "data": {
      "image/png": "[encoded data removed]",
      "text/plain": [
       "<Figure size 432x288 with 1 Axes>"
      ]
     },
     "metadata": {
      "needs_background": "light"
     },
     "output_type": "display_data"
    }
   ],
   "source": [
    "binsize = 10\n",
    "binedges = np.arange(loan_clean['CreditScoreRangeUpper'].min(),loan_clean['CreditScoreRangeUpper'].max()+binsize,binsize)\n",
    "plt.hist(loan_clean['CreditScoreRangeUpper'],bins=binedges);\n",
    "plt.title('CreditScoreRangeUpper histogram');\n",
    "plt.xlabel('Score');\n",
    "plt.ylabel('Frequency');"
   ]
  },
  {
   "cell_type": "markdown",
   "metadata": {},
   "source": [
    "Interestingly, it seems that credit score is given in steps of 20 starting from 9... Not sure what the reason for this is but it seems clear given the histogram above. Also the distribution seems to be normally distributed to the right but falls sharply on the left of the otherwise bell-curve. Let's use bins of 20, as this seems to be the pattern used by banks"
   ]
  },
  {
   "cell_type": "code",
   "execution_count": 186,
   "metadata": {},
   "outputs": [
    {
     "data": {
      "image/png": "[encoded data removed]",
      "text/plain": [
       "<Figure size 432x288 with 1 Axes>"
      ]
     },
     "metadata": {
      "needs_background": "light"
     },
     "output_type": "display_data"
    }
   ],
   "source": [
    "binsize = 20\n",
    "binedges = np.arange(500,900+binsize,binsize)\n",
    "plt.hist(loan_clean['CreditScoreRangeUpper'],bins=binedges);\n",
    "plt.title('CreditScoreRangeUpper histogram');\n",
    "plt.xlabel('Score');\n",
    "plt.ylabel('Frequency');"
   ]
  },
  {
   "cell_type": "code",
   "execution_count": 77,
   "metadata": {},
   "outputs": [
    {
     "data": {
      "image/png": "[encoded data removed]",
      "text/plain": [
       "<Figure size 432x288 with 1 Axes>"
      ]
     },
     "metadata": {
      "needs_background": "light"
     },
     "output_type": "display_data"
    }
   ],
   "source": [
    "samp_mean = loan_clean['CreditScoreRangeUpper'].mean()\n",
    "samp_sd = loan_clean['CreditScoreRangeUpper'].std()\n",
    "n_points = loan_clean.shape[0]\n",
    "qs = (np.arange(n_points) - .5) / n_points\n",
    "expected_vals = norm.ppf(qs)\n",
    "plt.scatter(expected_vals, (loan_clean['CreditScoreRangeUpper'].sort_values()-samp_mean)/samp_sd)\n",
    "plt.plot([-2.5,3],[-2.5,3],'--', color = 'black')\n",
    "plt.axis('equal')\n",
    "plt.xlabel('Expected Values');\n",
    "plt.ylabel('Observed Values');\n",
    "plt.title('QQ Plot for CreditScoreRangeUpper');"
   ]
  },
  {
   "cell_type": "markdown",
   "metadata": {},
   "source": [
    "The Q-Q plot above indicates what was postulated above. That is, data seems to be normally distributed on the right side of the centre, but this does not hold for the left side.\n",
    "Let's now look at Delinquencies for the last 7 years"
   ]
  },
  {
   "cell_type": "code",
   "execution_count": 134,
   "metadata": {},
   "outputs": [
    {
     "data": {
      "text/plain": [
       "count    105520.000000\n",
       "mean          3.928829\n",
       "std           9.800297\n",
       "min           0.000000\n",
       "25%           0.000000\n",
       "50%           0.000000\n",
       "75%           3.000000\n",
       "max          99.000000\n",
       "Name: DelinquenciesLast7Years, dtype: float64"
      ]
     },
     "execution_count": 134,
     "metadata": {},
     "output_type": "execute_result"
    }
   ],
   "source": [
    "loan_clean['DelinquenciesLast7Years'].describe()"
   ]
  },
  {
   "cell_type": "markdown",
   "metadata": {},
   "source": [
    "Since the vast majority of deliquencies corresponds to no deliquencies, let's skip the value 0 to visualize the distribution"
   ]
  },
  {
   "cell_type": "code",
   "execution_count": 78,
   "metadata": {},
   "outputs": [
    {
     "data": {
      "image/png": "[encoded data removed]",
      "text/plain": [
       "<Figure size 432x288 with 1 Axes>"
      ]
     },
     "metadata": {
      "needs_background": "light"
     },
     "output_type": "display_data"
    }
   ],
   "source": [
    "binsize = 2\n",
    "binedges = np.arange(1,loan_clean['DelinquenciesLast7Years'].max()+binsize,binsize)\n",
    "plt.hist(loan_clean['DelinquenciesLast7Years'],bins=binedges);\n",
    "plt.title('DelinquenciesLast7Years histogram');\n",
    "plt.xlabel('Number of Deliquencies');\n",
    "plt.ylabel('Frequency');"
   ]
  },
  {
   "cell_type": "markdown",
   "metadata": {},
   "source": [
    "The distribution above is extremely skewed to the right. Looking like an exponential distribution we can try using a logarithmic transformation to see if the transformed distribution approaches a normal distribution"
   ]
  },
  {
   "cell_type": "code",
   "execution_count": 79,
   "metadata": {},
   "outputs": [
    {
     "data": {
      "image/png": "[encoded data removed]",
      "text/plain": [
       "<Figure size 432x288 with 1 Axes>"
      ]
     },
     "metadata": {
      "needs_background": "light"
     },
     "output_type": "display_data"
    }
   ],
   "source": [
    "binsize = 0.17\n",
    "binedges = 10**np.arange(0,np.log10(99)+binsize,binsize);\n",
    "plt.hist(loan_clean['DelinquenciesLast7Years'],bins=binedges);\n",
    "plt.title('DelinquenciesLast7Years histogram');\n",
    "plt.xscale('log')\n",
    "tick_locs = [1, 3, 10, 30, 100]\n",
    "plt.xticks(tick_locs,tick_locs)\n",
    "plt.xlabel('Delinquencies');\n",
    "plt.ylabel('Frequency');"
   ]
  },
  {
   "cell_type": "markdown",
   "metadata": {},
   "source": [
    "It seems that the transformed distribution does not show any signs of normality... We can then regard this variable to behave as an exponential distribution even though we have not performed any test to corroborate this hypothesis.\n",
    "Let's see what happens with variable RevolvingCreditBalance"
   ]
  },
  {
   "cell_type": "code",
   "execution_count": 154,
   "metadata": {},
   "outputs": [
    {
     "data": {
      "text/plain": [
       "count    1.055200e+05\n",
       "mean     1.759220e+04\n",
       "std      3.293691e+04\n",
       "min      0.000000e+00\n",
       "25%      3.102000e+03\n",
       "50%      8.538000e+03\n",
       "75%      1.952025e+04\n",
       "max      1.435667e+06\n",
       "Name: RevolvingCreditBalance, dtype: float64"
      ]
     },
     "execution_count": 154,
     "metadata": {},
     "output_type": "execute_result"
    }
   ],
   "source": [
    "loan_clean['RevolvingCreditBalance'].describe()"
   ]
  },
  {
   "cell_type": "code",
   "execution_count": 87,
   "metadata": {},
   "outputs": [
    {
     "data": {
      "image/png": "[encoded data removed]",
      "text/plain": [
       "<Figure size 432x288 with 1 Axes>"
      ]
     },
     "metadata": {
      "needs_background": "light"
     },
     "output_type": "display_data"
    }
   ],
   "source": [
    "binsize = 1000\n",
    "binedges = np.arange(0,loan_clean['RevolvingCreditBalance'].max()+binsize,binsize)\n",
    "res = plt.hist(loan_clean['RevolvingCreditBalance'],bins=binedges);\n",
    "plt.title('RevolvingCreditBalance histogram');\n",
    "plt.xlabel('Balance in Dollars');\n",
    "plt.ylabel('Frequency');"
   ]
  },
  {
   "cell_type": "markdown",
   "metadata": {},
   "source": [
    "It can be seen that the above distribution is extremely right skewed with possibly some outliers. Let's zoom in the range 0-100K and see what the distribution looks like"
   ]
  },
  {
   "cell_type": "code",
   "execution_count": 88,
   "metadata": {},
   "outputs": [
    {
     "data": {
      "image/png": "[encoded data removed]",
      "text/plain": [
       "<Figure size 432x288 with 1 Axes>"
      ]
     },
     "metadata": {
      "needs_background": "light"
     },
     "output_type": "display_data"
    }
   ],
   "source": [
    "binsize = 1000\n",
    "binedges = np.arange(0,100000+binsize,binsize)\n",
    "res = plt.hist(loan_clean['RevolvingCreditBalance'],bins=binedges);\n",
    "plt.title('RevolvingCreditBalance histogram');\n",
    "plt.xlabel('Balance in Dollars');\n",
    "plt.ylabel('Frequency');"
   ]
  },
  {
   "cell_type": "markdown",
   "metadata": {},
   "source": [
    "Very similar to an exponential distribution with perhaps the peculiarity that 0 seems to be the most common value. Let's apply some log transformation to see what the resulting data looks like"
   ]
  },
  {
   "cell_type": "code",
   "execution_count": 90,
   "metadata": {},
   "outputs": [
    {
     "data": {
      "image/png": "[encoded data removed]",
      "text/plain": [
       "<Figure size 432x288 with 1 Axes>"
      ]
     },
     "metadata": {
      "needs_background": "light"
     },
     "output_type": "display_data"
    }
   ],
   "source": [
    "binsize = 0.1\n",
    "binedges = 10**np.arange(0,np.log10(1000000)+binsize,binsize);\n",
    "plt.hist(loan_clean['RevolvingCreditBalance'],bins=binedges);\n",
    "plt.title('RevolvingCreditBalance histogram');\n",
    "plt.xscale('log');\n",
    "tick_locs = [1, 3, 10, 30, 100, 300, 1000, 3000, 10000, 30000, 100000, 300000]\n",
    "plt.xticks(tick_locs,tick_locs,rotation = 45);\n",
    "plt.xlabel('Balance');\n",
    "plt.ylabel('Frequency');"
   ]
  },
  {
   "cell_type": "markdown",
   "metadata": {},
   "source": [
    "It seems that Revolving Credit Balances is log normally distributed with a slight skew to the left.    \n",
    "\n",
    "As it can be seen below data from variable AvailableBankcardCredit, the distribution shown is very similar to Revolving Credit Balance"
   ]
  },
  {
   "cell_type": "code",
   "execution_count": 91,
   "metadata": {},
   "outputs": [
    {
     "data": {
      "text/plain": [
       "(0, 100000)"
      ]
     },
     "execution_count": 91,
     "metadata": {},
     "output_type": "execute_result"
    },
    {
     "data": {
      "image/png": "[encoded data removed]",
      "text/plain": [
       "<Figure size 432x288 with 1 Axes>"
      ]
     },
     "metadata": {
      "needs_background": "light"
     },
     "output_type": "display_data"
    }
   ],
   "source": [
    "binsize = 1000\n",
    "binedges = np.arange(0,loan_clean['AvailableBankcardCredit'].max()+binsize,binsize)\n",
    "plt.hist(loan_clean['AvailableBankcardCredit'],bins=binedges);\n",
    "plt.title('AvailableBankcardCredit histogram');\n",
    "plt.xlabel('Available credit in dollars');\n",
    "plt.ylabel('Frequency');\n",
    "plt.xlim((0,100000))"
   ]
  },
  {
   "cell_type": "markdown",
   "metadata": {},
   "source": [
    "Now, tranforming the data"
   ]
  },
  {
   "cell_type": "code",
   "execution_count": 184,
   "metadata": {},
   "outputs": [
    {
     "data": {
      "image/png": "[encoded data removed]",
      "text/plain": [
       "<Figure size 432x288 with 1 Axes>"
      ]
     },
     "metadata": {
      "needs_background": "light"
     },
     "output_type": "display_data"
    }
   ],
   "source": [
    "binsize = 0.1\n",
    "binedges = 10**np.arange(0,np.log10(1000000)+binsize,binsize);\n",
    "plt.hist(loan_clean['AvailableBankcardCredit'],bins=binedges);\n",
    "plt.title('AvailableBankcardCredit histogram');\n",
    "plt.xscale('log');\n",
    "tick_locs = [1, 3, 10, 30, 100, 300, 1000, 3000, 10000, 30000, 100000, 300000]\n",
    "plt.xticks(tick_locs,tick_locs,rotation = 45);\n",
    "plt.xlabel('Credit');\n",
    "plt.ylabel('Frequency');"
   ]
  },
  {
   "cell_type": "markdown",
   "metadata": {},
   "source": [
    "As expected the transformed data follows a similar distribution as the one seen for the previous variable. It's somewhat normally distributed with a skew to the left.\n",
    "\n",
    "Let's now look at LoanOriginalAmount. Let's make the bin size small to find out whether there are standard loans or loans that are more often asked for"
   ]
  },
  {
   "cell_type": "code",
   "execution_count": 97,
   "metadata": {},
   "outputs": [
    {
     "data": {
      "text/plain": [
       "(0, 40000)"
      ]
     },
     "execution_count": 97,
     "metadata": {},
     "output_type": "execute_result"
    },
    {
     "data": {
      "image/png": "[encoded data removed]",
      "text/plain": [
       "<Figure size 432x288 with 1 Axes>"
      ]
     },
     "metadata": {
      "needs_background": "light"
     },
     "output_type": "display_data"
    }
   ],
   "source": [
    "binsize = 100\n",
    "binedges = np.arange(0,loan_clean['LoanOriginalAmount'].max()+binsize,binsize)\n",
    "histRet=plt.hist(loan_clean['LoanOriginalAmount'],bins=binedges);\n",
    "plt.title('LoanOriginalAmount histogram');\n",
    "plt.xlabel('Original amount in dollars');\n",
    "plt.ylabel('Frequency');\n",
    "plt.xlim((0,40000))"
   ]
  },
  {
   "cell_type": "markdown",
   "metadata": {},
   "source": [
    "Below we can see which are the most common loan amounts asked for. This is inline with the spikes in the graph above"
   ]
  },
  {
   "cell_type": "code",
   "execution_count": 100,
   "metadata": {},
   "outputs": [
    {
     "data": {
      "text/plain": [
       "[4000, 10000, 15000, 5000, 2000, 3000, 2500, 7500, 6000, 1000]"
      ]
     },
     "execution_count": 100,
     "metadata": {},
     "output_type": "execute_result"
    }
   ],
   "source": [
    "freqVal =[i for i in zip(histRet[0],histRet[1])]\n",
    "[i[1] for i in sorted(freqVal,reverse=True)[0:10]]"
   ]
  },
  {
   "cell_type": "markdown",
   "metadata": {},
   "source": [
    "When analysing LendeYield I expect to find a very similar data distribution as the one found for BorrowerAPR. The reason is that the Lender will try to assign the same Risk-Reward strategy. Let's see what happens"
   ]
  },
  {
   "cell_type": "code",
   "execution_count": 99,
   "metadata": {},
   "outputs": [
    {
     "data": {
      "image/png": "[encoded data removed]",
      "text/plain": [
       "<Figure size 432x288 with 1 Axes>"
      ]
     },
     "metadata": {
      "needs_background": "light"
     },
     "output_type": "display_data"
    }
   ],
   "source": [
    "binsize = 0.01\n",
    "binedges = np.arange(loan_clean['LenderYield'].min(),loan_clean['LenderYield'].max()+binsize,binsize)\n",
    "plt.hist(loan_clean['LenderYield'],bins=binedges);\n",
    "plt.title('LenderYield histogram');\n",
    "plt.xlabel('Yield (%)');\n",
    "plt.ylabel('Frequency');"
   ]
  },
  {
   "cell_type": "markdown",
   "metadata": {},
   "source": [
    "The plot above confirms the hypothesis laid above. Lastly, let's look at variable DebtToIncomeRatio"
   ]
  },
  {
   "cell_type": "code",
   "execution_count": 106,
   "metadata": {},
   "outputs": [
    {
     "data": {
      "image/png": "[encoded data removed]",
      "text/plain": [
       "<Figure size 432x288 with 1 Axes>"
      ]
     },
     "metadata": {
      "needs_background": "light"
     },
     "output_type": "display_data"
    }
   ],
   "source": [
    "binsize = 0.05\n",
    "binedges = np.arange(0,loan_clean['DebtToIncomeRatio'].max()+binsize,binsize)\n",
    "plt.hist(loan_clean['DebtToIncomeRatio'],bins=binedges);\n",
    "plt.title('DebtToIncomeRatio histogram');\n",
    "plt.xlabel('ratio (%)');\n",
    "plt.ylabel('Frequency');"
   ]
  },
  {
   "cell_type": "markdown",
   "metadata": {},
   "source": [
    "It can be observed that the vast majority of data points is confined between 0 and 1. The fact that the axis go up to 10 indicate clear outliers. Let's perform a logarithmic transformation to find out more about the distribution"
   ]
  },
  {
   "cell_type": "code",
   "execution_count": 107,
   "metadata": {
    "scrolled": true
   },
   "outputs": [
    {
     "data": {
      "image/png": "[encoded data removed]",
      "text/plain": [
       "<Figure size 432x288 with 1 Axes>"
      ]
     },
     "metadata": {
      "needs_background": "light"
     },
     "output_type": "display_data"
    }
   ],
   "source": [
    "binsize = 0.01\n",
    "binedges = 10**np.arange(0,np.log10(10.01)+binsize,binsize);\n",
    "plt.hist(loan_clean['DebtToIncomeRatio'],bins=binedges);\n",
    "plt.title('DebtToIncomeRatio histogram');\n",
    "plt.xscale('log');\n",
    "tick_locs = [1, 2, 3, 5, 7, 10]\n",
    "plt.xticks(tick_locs,tick_locs,rotation = 45);\n",
    "plt.xlabel('Credit');\n",
    "plt.ylabel('Frequency');"
   ]
  },
  {
   "cell_type": "code",
   "execution_count": 241,
   "metadata": {},
   "outputs": [
    {
     "data": {
      "text/html": [
       "<div>\n",
       "<style scoped>\n",
       "    .dataframe tbody tr th:only-of-type {\n",
       "        vertical-align: middle;\n",
       "    }\n",
       "\n",
       "    .dataframe tbody tr th {\n",
       "        vertical-align: top;\n",
       "    }\n",
       "\n",
       "    .dataframe thead th {\n",
       "        text-align: right;\n",
       "    }\n",
       "</style>\n",
       "<table border=\"1\" class=\"dataframe\">\n",
       "  <thead>\n",
       "    <tr style=\"text-align: right;\">\n",
       "      <th></th>\n",
       "      <th>CreditGrade</th>\n",
       "      <th>Term</th>\n",
       "      <th>LoanStatus</th>\n",
       "      <th>BorrowerAPR</th>\n",
       "      <th>LenderYield</th>\n",
       "      <th>EmploymentStatus</th>\n",
       "      <th>EmploymentStatusDuration</th>\n",
       "      <th>IsBorrowerHomeowner</th>\n",
       "      <th>CreditScoreRangeUpper</th>\n",
       "      <th>DelinquenciesLast7Years</th>\n",
       "      <th>RevolvingCreditBalance</th>\n",
       "      <th>AvailableBankcardCredit</th>\n",
       "      <th>DebtToIncomeRatio</th>\n",
       "      <th>IncomeRange</th>\n",
       "      <th>LoanOriginalAmount</th>\n",
       "      <th>MonthlyLoanPayment</th>\n",
       "    </tr>\n",
       "  </thead>\n",
       "  <tbody>\n",
       "    <tr>\n",
       "      <th>90975</th>\n",
       "      <td>C</td>\n",
       "      <td>36</td>\n",
       "      <td>Completed</td>\n",
       "      <td>0.16115</td>\n",
       "      <td>0.1440</td>\n",
       "      <td>Not employed</td>\n",
       "      <td>0</td>\n",
       "      <td>False</td>\n",
       "      <td>679</td>\n",
       "      <td>0</td>\n",
       "      <td>32593</td>\n",
       "      <td>3036</td>\n",
       "      <td>10.01</td>\n",
       "      <td>Not employed</td>\n",
       "      <td>13995</td>\n",
       "      <td>0.00</td>\n",
       "    </tr>\n",
       "    <tr>\n",
       "      <th>52771</th>\n",
       "      <td>C</td>\n",
       "      <td>36</td>\n",
       "      <td>Completed</td>\n",
       "      <td>0.28269</td>\n",
       "      <td>0.2600</td>\n",
       "      <td>Full-time</td>\n",
       "      <td>37</td>\n",
       "      <td>False</td>\n",
       "      <td>679</td>\n",
       "      <td>2</td>\n",
       "      <td>17053</td>\n",
       "      <td>9604</td>\n",
       "      <td>10.01</td>\n",
       "      <td>$1-24,999</td>\n",
       "      <td>8100</td>\n",
       "      <td>320.83</td>\n",
       "    </tr>\n",
       "    <tr>\n",
       "      <th>26112</th>\n",
       "      <td>HR</td>\n",
       "      <td>36</td>\n",
       "      <td>Completed</td>\n",
       "      <td>0.35643</td>\n",
       "      <td>0.3099</td>\n",
       "      <td>Full-time</td>\n",
       "      <td>81</td>\n",
       "      <td>False</td>\n",
       "      <td>679</td>\n",
       "      <td>9</td>\n",
       "      <td>1648</td>\n",
       "      <td>955</td>\n",
       "      <td>10.01</td>\n",
       "      <td>$1-24,999</td>\n",
       "      <td>2200</td>\n",
       "      <td>95.81</td>\n",
       "    </tr>\n",
       "    <tr>\n",
       "      <th>55170</th>\n",
       "      <td>B</td>\n",
       "      <td>36</td>\n",
       "      <td>Completed</td>\n",
       "      <td>0.29274</td>\n",
       "      <td>0.2600</td>\n",
       "      <td>Full-time</td>\n",
       "      <td>53</td>\n",
       "      <td>True</td>\n",
       "      <td>699</td>\n",
       "      <td>0</td>\n",
       "      <td>3669</td>\n",
       "      <td>13052</td>\n",
       "      <td>10.01</td>\n",
       "      <td>$1-24,999</td>\n",
       "      <td>7500</td>\n",
       "      <td>312.26</td>\n",
       "    </tr>\n",
       "    <tr>\n",
       "      <th>95890</th>\n",
       "      <td>A</td>\n",
       "      <td>36</td>\n",
       "      <td>Current</td>\n",
       "      <td>0.15324</td>\n",
       "      <td>0.1149</td>\n",
       "      <td>Employed</td>\n",
       "      <td>44</td>\n",
       "      <td>False</td>\n",
       "      <td>759</td>\n",
       "      <td>3</td>\n",
       "      <td>2092</td>\n",
       "      <td>2713</td>\n",
       "      <td>10.01</td>\n",
       "      <td>$1-24,999</td>\n",
       "      <td>5225</td>\n",
       "      <td>174.77</td>\n",
       "    </tr>\n",
       "    <tr>\n",
       "      <th>68980</th>\n",
       "      <td>AA</td>\n",
       "      <td>36</td>\n",
       "      <td>Completed</td>\n",
       "      <td>0.10692</td>\n",
       "      <td>0.0950</td>\n",
       "      <td>Full-time</td>\n",
       "      <td>49</td>\n",
       "      <td>True</td>\n",
       "      <td>799</td>\n",
       "      <td>0</td>\n",
       "      <td>0</td>\n",
       "      <td>0</td>\n",
       "      <td>10.01</td>\n",
       "      <td>Not displayed</td>\n",
       "      <td>5000</td>\n",
       "      <td>161.34</td>\n",
       "    </tr>\n",
       "    <tr>\n",
       "      <th>89875</th>\n",
       "      <td>D</td>\n",
       "      <td>36</td>\n",
       "      <td>Chargedoff</td>\n",
       "      <td>0.22945</td>\n",
       "      <td>0.2020</td>\n",
       "      <td>Self-employed</td>\n",
       "      <td>181</td>\n",
       "      <td>True</td>\n",
       "      <td>639</td>\n",
       "      <td>0</td>\n",
       "      <td>5467</td>\n",
       "      <td>4212</td>\n",
       "      <td>10.01</td>\n",
       "      <td>$1-24,999</td>\n",
       "      <td>9740</td>\n",
       "      <td>372.98</td>\n",
       "    </tr>\n",
       "    <tr>\n",
       "      <th>37625</th>\n",
       "      <td>HR</td>\n",
       "      <td>36</td>\n",
       "      <td>Completed</td>\n",
       "      <td>0.16386</td>\n",
       "      <td>0.1295</td>\n",
       "      <td>Not employed</td>\n",
       "      <td>1</td>\n",
       "      <td>False</td>\n",
       "      <td>539</td>\n",
       "      <td>0</td>\n",
       "      <td>0</td>\n",
       "      <td>0</td>\n",
       "      <td>10.01</td>\n",
       "      <td>Not employed</td>\n",
       "      <td>2050</td>\n",
       "      <td>71.01</td>\n",
       "    </tr>\n",
       "    <tr>\n",
       "      <th>92399</th>\n",
       "      <td>E</td>\n",
       "      <td>36</td>\n",
       "      <td>Current</td>\n",
       "      <td>0.35244</td>\n",
       "      <td>0.3060</td>\n",
       "      <td>Employed</td>\n",
       "      <td>64</td>\n",
       "      <td>False</td>\n",
       "      <td>659</td>\n",
       "      <td>0</td>\n",
       "      <td>2474</td>\n",
       "      <td>2508</td>\n",
       "      <td>10.01</td>\n",
       "      <td>$1-24,999</td>\n",
       "      <td>7500</td>\n",
       "      <td>324.99</td>\n",
       "    </tr>\n",
       "    <tr>\n",
       "      <th>34883</th>\n",
       "      <td>C</td>\n",
       "      <td>36</td>\n",
       "      <td>Current</td>\n",
       "      <td>0.23939</td>\n",
       "      <td>0.1919</td>\n",
       "      <td>Other</td>\n",
       "      <td>334</td>\n",
       "      <td>False</td>\n",
       "      <td>719</td>\n",
       "      <td>0</td>\n",
       "      <td>20671</td>\n",
       "      <td>7992</td>\n",
       "      <td>10.01</td>\n",
       "      <td>$1-24,999</td>\n",
       "      <td>14500</td>\n",
       "      <td>540.28</td>\n",
       "    </tr>\n",
       "  </tbody>\n",
       "</table>\n",
       "</div>"
      ],
      "text/plain": [
       "      CreditGrade Term  LoanStatus  BorrowerAPR  LenderYield EmploymentStatus  \\\n",
       "90975           C   36   Completed      0.16115       0.1440     Not employed   \n",
       "52771           C   36   Completed      0.28269       0.2600        Full-time   \n",
       "26112          HR   36   Completed      0.35643       0.3099        Full-time   \n",
       "55170           B   36   Completed      0.29274       0.2600        Full-time   \n",
       "95890           A   36     Current      0.15324       0.1149         Employed   \n",
       "68980          AA   36   Completed      0.10692       0.0950        Full-time   \n",
       "89875           D   36  Chargedoff      0.22945       0.2020    Self-employed   \n",
       "37625          HR   36   Completed      0.16386       0.1295     Not employed   \n",
       "92399           E   36     Current      0.35244       0.3060         Employed   \n",
       "34883           C   36     Current      0.23939       0.1919            Other   \n",
       "\n",
       "       EmploymentStatusDuration  IsBorrowerHomeowner  CreditScoreRangeUpper  \\\n",
       "90975                         0                False                    679   \n",
       "52771                        37                False                    679   \n",
       "26112                        81                False                    679   \n",
       "55170                        53                 True                    699   \n",
       "95890                        44                False                    759   \n",
       "68980                        49                 True                    799   \n",
       "89875                       181                 True                    639   \n",
       "37625                         1                False                    539   \n",
       "92399                        64                False                    659   \n",
       "34883                       334                False                    719   \n",
       "\n",
       "       DelinquenciesLast7Years  RevolvingCreditBalance  \\\n",
       "90975                        0                   32593   \n",
       "52771                        2                   17053   \n",
       "26112                        9                    1648   \n",
       "55170                        0                    3669   \n",
       "95890                        3                    2092   \n",
       "68980                        0                       0   \n",
       "89875                        0                    5467   \n",
       "37625                        0                       0   \n",
       "92399                        0                    2474   \n",
       "34883                        0                   20671   \n",
       "\n",
       "       AvailableBankcardCredit  DebtToIncomeRatio    IncomeRange  \\\n",
       "90975                     3036              10.01   Not employed   \n",
       "52771                     9604              10.01      $1-24,999   \n",
       "26112                      955              10.01      $1-24,999   \n",
       "55170                    13052              10.01      $1-24,999   \n",
       "95890                     2713              10.01      $1-24,999   \n",
       "68980                        0              10.01  Not displayed   \n",
       "89875                     4212              10.01      $1-24,999   \n",
       "37625                        0              10.01   Not employed   \n",
       "92399                     2508              10.01      $1-24,999   \n",
       "34883                     7992              10.01      $1-24,999   \n",
       "\n",
       "       LoanOriginalAmount  MonthlyLoanPayment  \n",
       "90975               13995                0.00  \n",
       "52771                8100              320.83  \n",
       "26112                2200               95.81  \n",
       "55170                7500              312.26  \n",
       "95890                5225              174.77  \n",
       "68980                5000              161.34  \n",
       "89875                9740              372.98  \n",
       "37625                2050               71.01  \n",
       "92399                7500              324.99  \n",
       "34883               14500              540.28  "
      ]
     },
     "execution_count": 241,
     "metadata": {},
     "output_type": "execute_result"
    }
   ],
   "source": [
    "loan_clean[loan_clean['DebtToIncomeRatio'] > 10].sample(10)"
   ]
  },
  {
   "cell_type": "markdown",
   "metadata": {},
   "source": [
    "Not really sure how to interpret this, but the scaled plot shows an interesting fact. There are many people with a debt to income ratio of 10.01. Given the log distribution above it seems very unlikely that all these people share the same ratio... To me this looks like the ratio has been clipped on the top. The fact that it's clipped provides uncertainty about the real distribution, this is actually an information loss. I think the safest will be to remove these entries as they look bogus at least on one variable"
   ]
  },
  {
   "cell_type": "code",
   "execution_count": 102,
   "metadata": {},
   "outputs": [],
   "source": [
    "loan_clean.drop(loan_clean[loan_clean['DebtToIncomeRatio'] > 10].index,axis=0,inplace=True)"
   ]
  },
  {
   "cell_type": "code",
   "execution_count": 103,
   "metadata": {},
   "outputs": [
    {
     "data": {
      "image/png": "[encoded data removed]",
      "text/plain": [
       "<Figure size 432x288 with 1 Axes>"
      ]
     },
     "metadata": {
      "needs_background": "light"
     },
     "output_type": "display_data"
    }
   ],
   "source": [
    "binsize = 0.01\n",
    "binedges = 10**np.arange(0,np.log10(10.01)+binsize,binsize);\n",
    "plt.hist(loan_clean['DebtToIncomeRatio'],bins=binedges);\n",
    "plt.title('DebtToIncomeRatio histogram');\n",
    "plt.xscale('log');\n",
    "tick_locs = [1, 2, 3, 5, 7, 10]\n",
    "plt.xticks(tick_locs,tick_locs,rotation = 45);\n",
    "plt.xlabel('Credit');\n",
    "plt.ylabel('Frequency');"
   ]
  },
  {
   "cell_type": "markdown",
   "metadata": {},
   "source": [
    "### Discuss the distribution(s) of your variable(s) of interest. Were there any unusual points? Did you need to perform any transformations?\n",
    "\n",
    "> BorrowersAPR shows a somewhat normal distribution with a slight skew to the right. There is a spike of interest around 35% suggesting that bank's perceived risk for a big number of loans is the same. The other dependent variable LoanStatus, we've seen that some of its categories were very scarcely populated and so I decided to combine a few of them into one to make that category more relevant.\n",
    "\n",
    "### Of the features you investigated, were there any unusual distributions? Did you perform any operations on the data to tidy, adjust, or change the form of the data? If so, why did you do this?\n",
    "\n",
    "> From the categorical/ordinal features analysed, one of them was removed as it was deemed that its categories were not relevant enough for the analysis. Credit grade and Income Range were cleaned after visual inspection. Employment status was also removed as the quality of the data was poor and hard to interpret. As far as the numerical features are concerned. There was a few interesting aspects to note. For example, after visual inspection it was observed that DebtToIncomeRation had to be cleaned. Also, transforming logarithmically some distributions seemed to give a more normally looking distribution. However this transformation was not successful for every feature that was transformed. Making the bin size small, gave good results with feature LoanOriginalAmount and revealed a few spikes that showcase the most common loan amounts. Lastly, the Q-Q analysis in feature CreditScoreRangeUpper showed that this feature shows normality for the right side of the bell curve and not quite normal for the left side."
   ]
  },
  {
   "cell_type": "markdown",
   "metadata": {},
   "source": [
    "## Bivariate Exploration\n",
    "\n",
    "> In this section, investigate relationships between pairs of variables in your\n",
    "data. Make sure the variables that you cover here have been introduced in some\n",
    "fashion in the previous section (univariate exploration)."
   ]
  },
  {
   "cell_type": "code",
   "execution_count": null,
   "metadata": {},
   "outputs": [],
   "source": []
  },
  {
   "cell_type": "markdown",
   "metadata": {},
   "source": [
    "### Talk about some of the relationships you observed in this part of the investigation. How did the feature(s) of interest vary with other features in the dataset?\n",
    "\n",
    "> Your answer here!\n",
    "\n",
    "### Did you observe any interesting relationships between the other features (not the main feature(s) of interest)?\n",
    "\n",
    "> Your answer here!"
   ]
  },
  {
   "cell_type": "markdown",
   "metadata": {},
   "source": [
    "## Multivariate Exploration\n",
    "\n",
    "> Create plots of three or more variables to investigate your data even\n",
    "further. Make sure that your investigations are justified, and follow from\n",
    "your work in the previous sections."
   ]
  },
  {
   "cell_type": "code",
   "execution_count": null,
   "metadata": {},
   "outputs": [],
   "source": []
  },
  {
   "cell_type": "markdown",
   "metadata": {},
   "source": [
    "### Talk about some of the relationships you observed in this part of the investigation. Were there features that strengthened each other in terms of looking at your feature(s) of interest?\n",
    "\n",
    "> Your answer here!\n",
    "\n",
    "### Were there any interesting or surprising interactions between features?\n",
    "\n",
    "> Your answer here!"
   ]
  },
  {
   "cell_type": "markdown",
   "metadata": {},
   "source": [
    "> At the end of your report, make sure that you export the notebook as an\n",
    "html file from the `File > Download as... > HTML` menu. Make sure you keep\n",
    "track of where the exported file goes, so you can put it in the same folder\n",
    "as this notebook for project submission. Also, make sure you remove all of\n",
    "the quote-formatted guide notes like this one before you finish your report!"
   ]
  },
  {
   "cell_type": "code",
   "execution_count": null,
   "metadata": {},
   "outputs": [],
   "source": []
  }
 ],
 "metadata": {
  "kernelspec": {
   "display_name": "Python [default]",
   "language": "python",
   "name": "python3"
  },
  "language_info": {
   "codemirror_mode": {
    "name": "ipython",
    "version": 3
   },
   "file_extension": ".py",
   "mimetype": "text/x-python",
   "name": "python",
   "nbconvert_exporter": "python",
   "pygments_lexer": "ipython3",
   "version": "3.7.0"
  }
 },
 "nbformat": 4,
 "nbformat_minor": 2
}
